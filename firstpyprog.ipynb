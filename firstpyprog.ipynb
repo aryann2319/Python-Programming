{
 "cells": [
  {
   "cell_type": "code",
   "execution_count": 84,
   "id": "eb5fad22",
   "metadata": {},
   "outputs": [
    {
     "name": "stdout",
     "output_type": "stream",
     "text": [
      "Enter first number: 4\n",
      "enter second number: 6\n",
      "10\n"
     ]
    }
   ],
   "source": [
    "first= int(input(\"Enter first number: \"))\n",
    "second= int(input(\"enter second number: \"))\n",
    "print(first+second)\n"
   ]
  },
  {
   "cell_type": "code",
   "execution_count": null,
   "id": "ff6f7a57",
   "metadata": {},
   "outputs": [],
   "source": [
    "name=\"Tony Stark\"\n",
    "print('iron' in name)"
   ]
  },
  {
   "cell_type": "code",
   "execution_count": 27,
   "id": "d00ed6e6",
   "metadata": {},
   "outputs": [
    {
     "name": "stdout",
     "output_type": "stream",
     "text": [
      "[1, 4, 5]\n"
     ]
    }
   ],
   "source": [
    "b=[1,2,4,5]\n",
    "b.remove(2)\n",
    "print(b)"
   ]
  },
  {
   "cell_type": "code",
   "execution_count": 63,
   "id": "e169ebdf",
   "metadata": {},
   "outputs": [
    {
     "name": "stdout",
     "output_type": "stream",
     "text": [
      "True\n"
     ]
    }
   ],
   "source": [
    "print( not 6>7)"
   ]
  },
  {
   "cell_type": "code",
   "execution_count": 73,
   "id": "f492e6d5",
   "metadata": {},
   "outputs": [
    {
     "name": "stdout",
     "output_type": "stream",
     "text": [
      "Sunrise or sunset? Sunrise\n",
      "good morning\n"
     ]
    }
   ],
   "source": [
    "situ=input(\"Sunrise or sunset? \")\n",
    "if situ== \"Sunrise\":\n",
    "    print(\"good morning\")\n",
    "elif situ==\"sunset\":\n",
    "    print(\"good night\")\n",
    "else:\n",
    "    print(\"Enter valid input\")"
   ]
  },
  {
   "cell_type": "code",
   "execution_count": null,
   "id": "e95c334a",
   "metadata": {},
   "outputs": [],
   "source": []
  },
  {
   "cell_type": "code",
   "execution_count": 86,
   "id": "e3714db8",
   "metadata": {},
   "outputs": [
    {
     "name": "stdout",
     "output_type": "stream",
     "text": [
      "Enter first number: 5\n",
      "Enter operator (+, 1, *, /, %): )\n",
      "enter second number: 6\n",
      "Invalid Operation\n"
     ]
    }
   ],
   "source": [
    "first= input(\"Enter first number: \")\n",
    "opeator=input(\"Enter operator (+, 1, *, /, %): \")\n",
    "second= input(\"enter second number: \")\n",
    "\n",
    "if (opeator==\"+\"):\n",
    "    print(int(first)+int(second))\n",
    "elif (opeator==\"-\"):\n",
    "    print(int(first)-int(second))\n",
    "elif (opeator==\"*\"):\n",
    "    print(int(first)*int(second))\n",
    "elif (opeator==\"/\"):\n",
    "    print(int(first)/int(second))\n",
    "elif (opeator==\"%\"):\n",
    "    print(int(first)%int(second))\n",
    "else:\n",
    "    print(\"Invalid Operation\")"
   ]
  },
  {
   "cell_type": "code",
   "execution_count": 8,
   "id": "693546e8",
   "metadata": {},
   "outputs": [
    {
     "name": "stdout",
     "output_type": "stream",
     "text": [
      "*\n",
      "**\n",
      "***\n",
      "****\n",
      "*****\n"
     ]
    }
   ],
   "source": [
    "i=1\n",
    "while i<=5:\n",
    "    print(i*\"*\")\n",
    "    i+=1"
   ]
  },
  {
   "cell_type": "code",
   "execution_count": null,
   "id": "fc1f05c6",
   "metadata": {},
   "outputs": [],
   "source": [
    "def print_sum():\n",
    "    first= int(input(\"Enter first number: \"))\n",
    "    second= int(input(\"Enter second number: \"))\n",
    "    print(first+second)\n",
    "    \n",
    "print_sum()"
   ]
  },
  {
   "cell_type": "code",
   "execution_count": 2,
   "id": "63a6d571",
   "metadata": {},
   "outputs": [
    {
     "data": {
      "text/plain": [
       "'**Aryan***'"
      ]
     },
     "execution_count": 2,
     "metadata": {},
     "output_type": "execute_result"
    }
   ],
   "source": [
    "a=\"Aryan\"\n",
    "a.center(10,\"*\")"
   ]
  },
  {
   "cell_type": "code",
   "execution_count": 36,
   "id": "2015df72",
   "metadata": {},
   "outputs": [
    {
     "name": "stdout",
     "output_type": "stream",
     "text": [
      "valid\n"
     ]
    }
   ],
   "source": [
    "import re\n",
    "\n",
    "def func(pattern, text):\n",
    "    m=re.search(pattern,text)\n",
    "    if m: \n",
    "        print('valid')\n",
    "    else:\n",
    "        print('invalid')\n",
    "        \n",
    "func('^[a-zA-Z0-9._%]+@[a-zA-Z0-9]+.[a-zA-Z].*[a-zA-Z]{2,}$', 'aryan@bciit.com.in')"
   ]
  },
  {
   "cell_type": "code",
   "execution_count": null,
   "id": "8d26ac73",
   "metadata": {},
   "outputs": [],
   "source": []
  }
 ],
 "metadata": {
  "kernelspec": {
   "display_name": "Python 3 (ipykernel)",
   "language": "python",
   "name": "python3"
  },
  "language_info": {
   "codemirror_mode": {
    "name": "ipython",
    "version": 3
   },
   "file_extension": ".py",
   "mimetype": "text/x-python",
   "name": "python",
   "nbconvert_exporter": "python",
   "pygments_lexer": "ipython3",
   "version": "3.11.4"
  }
 },
 "nbformat": 4,
 "nbformat_minor": 5
}
