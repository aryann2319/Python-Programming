{
 "cells": [
  {
   "cell_type": "markdown",
   "id": "0c8bbc1c",
   "metadata": {},
   "source": [
    "# Creating a string and accesing it through index"
   ]
  },
  {
   "cell_type": "code",
   "execution_count": 6,
   "id": "1a6fb227",
   "metadata": {},
   "outputs": [
    {
     "name": "stdout",
     "output_type": "stream",
     "text": [
      "n\n",
      "A\n"
     ]
    }
   ],
   "source": [
    "s= \"Hello my name is Aryan\"\n",
    "print(s[9])\n",
    "print(s[-5])\n",
    "\n",
    "# indexing in beginning starts from 0 so s[9] prints 8th character (whitespaces included), \n",
    "# (-5) here refers to indexing from backside"
   ]
  },
  {
   "cell_type": "markdown",
   "id": "84611493",
   "metadata": {},
   "source": [
    "# reversing a string in python"
   ]
  },
  {
   "cell_type": "code",
   "execution_count": 10,
   "id": "541d98f4",
   "metadata": {},
   "outputs": [
    {
     "name": "stdout",
     "output_type": "stream",
     "text": [
      "Python Programming\n"
     ]
    }
   ],
   "source": [
    "s1='gnimmargorP nohtyP'\n",
    "print(s1[::-1])\n",
    "#s1[::-1] uses Python slicing with the format [start:stop:step]"
   ]
  },
  {
   "cell_type": "code",
   "execution_count": 17,
   "id": "916a88bd",
   "metadata": {},
   "outputs": [
    {
     "name": "stdout",
     "output_type": "stream",
     "text": [
      "nohtyP gninraeL\n"
     ]
    }
   ],
   "source": [
    "#reverse using for loop\n",
    "\n",
    "rev=\"\"\n",
    "for i in \"Learning Python\":\n",
    "    rev=i+rev\n",
    "print(rev)"
   ]
  },
  {
   "cell_type": "code",
   "execution_count": 18,
   "id": "71a5754f",
   "metadata": {},
   "outputs": [
    {
     "name": "stdout",
     "output_type": "stream",
     "text": [
      "54321\n"
     ]
    }
   ],
   "source": [
    "# reverse a number using while loop\n",
    "\n",
    "num = 12345\n",
    "rev = 0\n",
    "\n",
    "while num > 0:\n",
    "    last_digit = num % 10 \n",
    "    rev = rev * 10 + last_digit \n",
    "    num = num // 10 \n",
    "print(rev)"
   ]
  },
  {
   "cell_type": "code",
   "execution_count": 20,
   "id": "3230d5a8",
   "metadata": {},
   "outputs": [
    {
     "name": "stdout",
     "output_type": "stream",
     "text": [
      "olleh\n"
     ]
    }
   ],
   "source": [
    "# reverse a number using while loop\n",
    "\n",
    "string = \"hello\"\n",
    "reversed_string = \"\"\n",
    "index = len(string) - 1 \n",
    "\n",
    "while index >= 0:\n",
    "    reversed_string = reversed_string + string[index]  \n",
    "    index=index-1\n",
    "print(reversed_string)"
   ]
  },
  {
   "cell_type": "markdown",
   "id": "96bb615e",
   "metadata": {},
   "source": [
    "# String Palindrome"
   ]
  },
  {
   "cell_type": "code",
   "execution_count": 1,
   "id": "b2875d77",
   "metadata": {},
   "outputs": [
    {
     "name": "stdout",
     "output_type": "stream",
     "text": [
      "Not palindrome\n"
     ]
    }
   ],
   "source": [
    "\n",
    "string = \"Jaat\"\n",
    "reversed_string = \"\"\n",
    "index = len(string) - 1 \n",
    "\n",
    "while index >= 0:\n",
    "    reversed_string = reversed_string + string[index]  \n",
    "    index=index-1\n",
    "\n",
    "if(reversed_string == string):\n",
    "    print(\"is palindrome\")\n",
    "else:\n",
    "    print(\"Not palindrome\")"
   ]
  },
  {
   "cell_type": "code",
   "execution_count": 4,
   "id": "f93fa4d9",
   "metadata": {},
   "outputs": [
    {
     "name": "stdout",
     "output_type": "stream",
     "text": [
      "is palindrome\n"
     ]
    }
   ],
   "source": [
    "st= \"madam\"\n",
    "rev_st = st[::-1]\n",
    "if(rev_st == st):\n",
    "    print(\"is palindrome\")\n",
    "else:\n",
    "    print(\"not palindrome\")"
   ]
  },
  {
   "cell_type": "markdown",
   "id": "3d0e1e33",
   "metadata": {},
   "source": [
    "# String Slicing"
   ]
  },
  {
   "cell_type": "code",
   "execution_count": 10,
   "id": "e1be286f",
   "metadata": {},
   "outputs": [
    {
     "name": "stdout",
     "output_type": "stream",
     "text": [
      "rning sli\n",
      "rigsi\n",
      "rning slicing operator in pyth\n"
     ]
    }
   ],
   "source": [
    "s2=\"Learning slicing operator in python\"\n",
    "# Printing characters between 3rd and 12th character (12th character not included, indexing starts from 0)\n",
    "print(s2[3:12])\n",
    "\n",
    "# Printing characters between 3rd and 12th character and stepping one character\n",
    "print(s2[3:12:2])\n",
    "# the step index skips (step-1) characters\n",
    "\n",
    "# Printing characters between 3rd and 2nd last character\n",
    "print(s2[3:-2])"
   ]
  },
  {
   "cell_type": "markdown",
   "id": "86b647a7",
   "metadata": {},
   "source": [
    "# Updating and deleting a string / conversion of list to string using join\n",
    "\n",
    "In Python, Updation or deletion of characters from a String is not allowed. This is because Strings are immutable, hence elements of a String cannot be changed once it has been assigned. Only new strings can be reassigned to the variable. "
   ]
  },
  {
   "cell_type": "code",
   "execution_count": 12,
   "id": "a1affc2b",
   "metadata": {},
   "outputs": [
    {
     "name": "stdout",
     "output_type": "stream",
     "text": [
      "Learning the slicing operator in python\n",
      "Learning the slicing operator in python\n",
      "Hello World\n"
     ]
    }
   ],
   "source": [
    "s2=\"Learnihg the slicing operator in python\"\n",
    "\n",
    "#updating a string method 1\n",
    "list1 = list(s2)\n",
    "list1[6] = 'n'\n",
    "#print(list1)\n",
    "s2 = ''.join(list1)\n",
    "print(s2)\n",
    "\n",
    "\n",
    "#2\n",
    "s2=\"Learnihg the slicing operator in python\"\n",
    "s3 = s2[0:6] + 'n' + s2[7:]\n",
    "print(s3)\n",
    "\n",
    "#3 Updating an entire string\n",
    "s2=\"Hello World\"\n",
    "print(s2)"
   ]
  },
  {
   "cell_type": "markdown",
   "id": "839b7c03",
   "metadata": {},
   "source": [
    "# Deleting a entire string"
   ]
  },
  {
   "cell_type": "code",
   "execution_count": 35,
   "id": "7c946646",
   "metadata": {},
   "outputs": [
    {
     "name": "stdout",
     "output_type": "stream",
     "text": [
      "Deleted\n"
     ]
    }
   ],
   "source": [
    "s2=\"Learnihg the slicing operator in python\"\n",
    "del s2\n",
    "\n",
    "print(\"Deleted\")"
   ]
  },
  {
   "cell_type": "markdown",
   "id": "68acf602",
   "metadata": {},
   "source": [
    "# Formatting of strings"
   ]
  },
  {
   "cell_type": "code",
   "execution_count": 4,
   "id": "cae8094e",
   "metadata": {},
   "outputs": [
    {
     "name": "stdout",
     "output_type": "stream",
     "text": [
      "Mangoes For Life\n"
     ]
    }
   ],
   "source": [
    "# Positional Formatting\n",
    "s4 = \"{} {} {}\".format('Mangoes', 'For', 'Life')\n",
    "print(s4)"
   ]
  },
  {
   "cell_type": "code",
   "execution_count": 5,
   "id": "99ff1267",
   "metadata": {},
   "outputs": [
    {
     "name": "stdout",
     "output_type": "stream",
     "text": [
      "For Mangoes Life\n"
     ]
    }
   ],
   "source": [
    "# Positional Formatting\n",
    "s4 = \"{1} {0} {2}\".format('Mangoes', 'For', 'Life')\n",
    "print(s4)"
   ]
  },
  {
   "cell_type": "markdown",
   "id": "27258c25",
   "metadata": {},
   "source": [
    "# Logical operators in strings"
   ]
  },
  {
   "cell_type": "code",
   "execution_count": 20,
   "id": "0c892d03",
   "metadata": {},
   "outputs": [
    {
     "name": "stdout",
     "output_type": "stream",
     "text": [
      "World\n",
      "Hello\n",
      "True\n"
     ]
    }
   ],
   "source": [
    "s5=\"Hello\"\n",
    "s6=\"World\"\n",
    "\n",
    "# For the ‘and’ operator if the left value is true, then the right value is checked and returned. \n",
    "# If the left value is false, then it is returned\n",
    "print(s5 and s6)\n",
    "\n",
    "# For the ‘or’ operator if the left value is true, then it is returned.\n",
    "# if the left value is false, then the right value is returned.\n",
    "print(s5 or s6)\n",
    "\n",
    "s7=\"\"\n",
    "print(not s7)"
   ]
  },
  {
   "cell_type": "markdown",
   "id": "79b06996",
   "metadata": {},
   "source": [
    "# Split function or conversion to list"
   ]
  },
  {
   "cell_type": "code",
   "execution_count": 11,
   "id": "dace9247",
   "metadata": {},
   "outputs": [
    {
     "name": "stdout",
     "output_type": "stream",
     "text": [
      "['str1', ',str2', ',str3']\n",
      "['str1 ', 'str2 ', 'str3']\n"
     ]
    }
   ],
   "source": [
    "# string.split(separator, maxsplit)\n",
    "\n",
    "line = \"str1 ,str2 ,str3\"\n",
    "print(line.split())\n",
    "print(line.split(\",\"))"
   ]
  },
  {
   "cell_type": "markdown",
   "id": "d188f873",
   "metadata": {},
   "source": [
    "# Reverse a string using loop"
   ]
  },
  {
   "cell_type": "code",
   "execution_count": 16,
   "id": "d4e3f28b",
   "metadata": {},
   "outputs": [
    {
     "name": "stdout",
     "output_type": "stream",
     "text": [
      "648392\n"
     ]
    }
   ],
   "source": [
    "rev=\"\"\n",
    "num=str(293846)\n",
    "for i in num:\n",
    "    rev=i+rev\n",
    "print(rev)"
   ]
  },
  {
   "cell_type": "markdown",
   "id": "34314ecc",
   "metadata": {},
   "source": [
    "# String Methods"
   ]
  },
  {
   "cell_type": "code",
   "execution_count": 13,
   "id": "39fe0a3f",
   "metadata": {},
   "outputs": [
    {
     "name": "stdout",
     "output_type": "stream",
     "text": [
      "0\n",
      "21\n"
     ]
    }
   ],
   "source": [
    "# find() -> to find first occurence\n",
    "# rfind() -> to find last occurence\n",
    "\n",
    "# find(\"string\", begIndex, endIndex)\n",
    "\n",
    "str = \"geeksforgeeks is for geeks\"\n",
    "print(str.find(\"geeks\", ))\n",
    "print(str.rfind(\"geeks\"))"
   ]
  },
  {
   "cell_type": "code",
   "execution_count": 44,
   "id": "3e57336c",
   "metadata": {},
   "outputs": [
    {
     "name": "stdout",
     "output_type": "stream",
     "text": [
      "False\n"
     ]
    }
   ],
   "source": [
    "# startswith() and endswith()\n",
    "\n",
    "str = \"geeksforgeeks is for geeks\" \n",
    "print(str.startswith(\"fab\"))"
   ]
  },
  {
   "cell_type": "code",
   "execution_count": 39,
   "id": "d7817443",
   "metadata": {},
   "outputs": [
    {
     "name": "stdout",
     "output_type": "stream",
     "text": [
      "geeksforgeeks is for geeks\n"
     ]
    }
   ],
   "source": [
    "# lower() and upper() ->converts a string to lower or uppercase\n",
    "# islower() and isupper() ->returns true if all characters are either lower or uppercase\n",
    "# swapcase() ->to change the case of a string\n",
    "\n",
    "s = \"geeksforgeeks is for geeks\" \n",
    "print(s.lower())"
   ]
  },
  {
   "cell_type": "code",
   "execution_count": 48,
   "id": "d3508a91",
   "metadata": {},
   "outputs": [
    {
     "name": "stdout",
     "output_type": "stream",
     "text": [
      "hello aryan\n"
     ]
    }
   ],
   "source": [
    "# replace()\n",
    "\n",
    "s1 = \"hello world\"\n",
    "\n",
    "new_string = s1.replace(\"world\", \"aryan\")\n",
    "print(new_string)"
   ]
  },
  {
   "cell_type": "code",
   "execution_count": 56,
   "id": "25bcd726",
   "metadata": {},
   "outputs": [
    {
     "name": "stdout",
     "output_type": "stream",
     "text": [
      "The string after centering with '-' is : ----WelcomeAryan----\n",
      "The string after ljust is : WelcomeAryan--------\n",
      "The string after rjust is : --------WelcomeAryan\n"
     ]
    }
   ],
   "source": [
    "#center() , ljust() , rjust()\n",
    "\n",
    "s8 = \"WelcomeAryan\"\n",
    " \n",
    "# Printing the string after centering with '-'\n",
    "print (\"The string after centering with '-' is : \",end=\"\")\n",
    "print ( s8.center(20,'-'))\n",
    "\n",
    "# Printing the string after ljust()\n",
    "print (\"The string after ljust is : \",end=\"\")\n",
    "print ( s8.ljust(20,'-'))\n",
    "\n",
    "# Printing the string after rjust()\n",
    "print (\"The string after rjust is : \",end=\"\")\n",
    "print ( s8.rjust(20,'-'))"
   ]
  },
  {
   "cell_type": "code",
   "execution_count": null,
   "id": "a2b84fbb",
   "metadata": {},
   "outputs": [],
   "source": [
    "# isspace() :- This function returns true when all the characters in the string are spaces else returns false."
   ]
  },
  {
   "cell_type": "code",
   "execution_count": 63,
   "id": "1ee8c6c1",
   "metadata": {},
   "outputs": [
    {
     "name": "stdout",
     "output_type": "stream",
     "text": [
      "Hello_Namaste_People\n",
      "Hello Namaste People\n"
     ]
    }
   ],
   "source": [
    "# join() -> This function is used to join a sequence of strings mentioned in its arguments with the string.\n",
    "\n",
    "s = \"_\"\n",
    "s9 = ( \"Hello\", \"Namaste\", \"People\" )\n",
    "print ( s.join(s9))\n",
    "print(\" \".join(s9))"
   ]
  },
  {
   "cell_type": "code",
   "execution_count": 64,
   "id": "28237770",
   "metadata": {},
   "outputs": [
    {
     "name": "stdout",
     "output_type": "stream",
     "text": [
      "geeksforgeeks\n",
      "geeksforgeeks---\n",
      "---geeksforgeeks\n"
     ]
    }
   ],
   "source": [
    "# strip(), lstrip(), rstrip()\n",
    "\n",
    "s10 = \"---geeksforgeeks---\"\n",
    "\n",
    "print (s10.strip('-'))\n",
    "print (s10.lstrip('-'))\n",
    "print (s10.rstrip('-'))"
   ]
  },
  {
   "cell_type": "markdown",
   "id": "58174eed",
   "metadata": {},
   "source": [
    "# Anangram"
   ]
  },
  {
   "cell_type": "code",
   "execution_count": 25,
   "id": "128dde54",
   "metadata": {},
   "outputs": [
    {
     "name": "stdout",
     "output_type": "stream",
     "text": [
      "anagram\n"
     ]
    }
   ],
   "source": [
    "l1=list(\"hello\")\n",
    "l2=list(\"oehll\")\n",
    "l1.sort()\n",
    "l2.sort()\n",
    "if(l1==l2):\n",
    "    print('anagram')\n",
    "else:\n",
    "    print('not anagram')"
   ]
  },
  {
   "cell_type": "code",
   "execution_count": null,
   "id": "94e52eba",
   "metadata": {},
   "outputs": [],
   "source": []
  }
 ],
 "metadata": {
  "kernelspec": {
   "display_name": "Python 3 (ipykernel)",
   "language": "python",
   "name": "python3"
  },
  "language_info": {
   "codemirror_mode": {
    "name": "ipython",
    "version": 3
   },
   "file_extension": ".py",
   "mimetype": "text/x-python",
   "name": "python",
   "nbconvert_exporter": "python",
   "pygments_lexer": "ipython3",
   "version": "3.11.4"
  }
 },
 "nbformat": 4,
 "nbformat_minor": 5
}
