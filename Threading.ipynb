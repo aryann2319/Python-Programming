{
 "cells": [
  {
   "cell_type": "code",
   "execution_count": 4,
   "id": "1ae162a9",
   "metadata": {},
   "outputs": [
    {
     "name": "stdout",
     "output_type": "stream",
     "text": [
      "Number: 0\n",
      "Number: 1\n",
      "Number: 2\n",
      "Number: 3\n",
      "Number: 4\n",
      "Number: 0\n",
      "Number: 1\n",
      "Number: 2\n",
      "Number: 3\n",
      "Number: 4\n"
     ]
    }
   ],
   "source": [
    "import threading\n",
    "\n",
    "def print_numbers():\n",
    "    for i in range(5):\n",
    "        print(f\"Number: {i}\")\n",
    "\n",
    "thread1 = threading.Thread(target=print_numbers)\n",
    "thread2 = threading.Thread(target=print_numbers)\n",
    "thread1.start()\n",
    "thread2.start()\n",
    "thread1.join()  # Waits for thread to finish\n",
    "thread2.join()"
   ]
  },
  {
   "cell_type": "code",
   "execution_count": 7,
   "id": "aed9c21a",
   "metadata": {
    "scrolled": true
   },
   "outputs": [
    {
     "name": "stdout",
     "output_type": "stream",
     "text": [
      "Thread-1: Starting\n",
      "Thread-2: Starting\n",
      "Thread-2: Working... step 1\n",
      "Thread-2: Working... step 2\n",
      "Thread-1: Finished after 3 seconds\n",
      "Thread-2: Working... step 3\n",
      "Thread-2: Working... step 4\n",
      "Thread-2: Working... step 5\n",
      "Thread-2: Finished\n",
      "Both threads completed.\n"
     ]
    }
   ],
   "source": [
    "import threading\n",
    "import time\n",
    "\n",
    "def thread1():\n",
    "    print(\"Thread-1: Starting\")\n",
    "    time.sleep(2)\n",
    "    print(\"Thread-1: Finished after 3 seconds\")\n",
    "\n",
    "def thread2():\n",
    "    print(\"Thread-2: Starting\")\n",
    "    for i in range(5):\n",
    "        print(f\"Thread-2: Working... step {i+1}\")\n",
    "        time.sleep(1)\n",
    "    print(\"Thread-2: Finished\")\n",
    "\n",
    "# Create threads\n",
    "t1 = threading.Thread(target=thread1)\n",
    "t2 = threading.Thread(target=thread2)\n",
    "\n",
    "# Start both threads\n",
    "t1.start()\n",
    "t2.start()\n",
    "\n",
    "# Wait for both to complete\n",
    "t1.join()\n",
    "t2.join()\n",
    "\n",
    "print(\"Both threads completed.\")"
   ]
  },
  {
   "cell_type": "markdown",
   "id": "8573be47",
   "metadata": {},
   "source": [
    "# Locks"
   ]
  },
  {
   "cell_type": "markdown",
   "id": "37de918f",
   "metadata": {},
   "source": [
    "Used to avoid race conditions when threads access shared data.\n",
    "A Lock ensures that only one thread accesses the critical section at a time."
   ]
  },
  {
   "cell_type": "code",
   "execution_count": 13,
   "id": "82b41bba",
   "metadata": {},
   "outputs": [
    {
     "name": "stdout",
     "output_type": "stream",
     "text": [
      "Final counter: 20000\n",
      "[<Thread(Thread-34 (increment), stopped 41460)>, <Thread(Thread-35 (increment), stopped 27132)>]\n"
     ]
    }
   ],
   "source": [
    "import threading\n",
    "\n",
    "lock = threading.Lock()\n",
    "\n",
    "# Shared resource\n",
    "counter = 0\n",
    "\n",
    "def increment():\n",
    "    global counter\n",
    "    for _ in range(10000):\n",
    "        with lock:  # Lock acquired here\n",
    "            counter += 1  # Critical section\n",
    "\n",
    "threads = []\n",
    "for _ in range(2):\n",
    "    t = threading.Thread(target=increment)\n",
    "    t.start()\n",
    "    threads.append(t)\n",
    "\n",
    "for t in threads:\n",
    "    t.join()\n",
    "\n",
    "print(\"Final counter:\", counter)\n",
    "print(threads)"
   ]
  },
  {
   "cell_type": "code",
   "execution_count": 14,
   "id": "9550ccf8",
   "metadata": {},
   "outputs": [
    {
     "name": "stdout",
     "output_type": "stream",
     "text": [
      "Thread-0 accessing\n",
      "Thread-1 accessing\n",
      "Thread-2 accessing\n",
      "Thread-3 accessing\n",
      "Thread-4 accessing\n"
     ]
    }
   ],
   "source": [
    "# semaphore\n",
    "\n",
    "import threading\n",
    "import time\n",
    "\n",
    "sem = threading.Semaphore(2)\n",
    "\n",
    "def access_resource(thread_id):\n",
    "    with sem:\n",
    "        print(f\"Thread-{thread_id} accessing\")\n",
    "        time.sleep(1)\n",
    "\n",
    "threads = [threading.Thread(target=access_resource, args=(i,)) for i in range(5)]\n",
    "for t in threads:\n",
    "    t.start()\n"
   ]
  },
  {
   "cell_type": "code",
   "execution_count": null,
   "id": "310c2514",
   "metadata": {},
   "outputs": [],
   "source": []
  }
 ],
 "metadata": {
  "kernelspec": {
   "display_name": "Python 3 (ipykernel)",
   "language": "python",
   "name": "python3"
  },
  "language_info": {
   "codemirror_mode": {
    "name": "ipython",
    "version": 3
   },
   "file_extension": ".py",
   "mimetype": "text/x-python",
   "name": "python",
   "nbconvert_exporter": "python",
   "pygments_lexer": "ipython3",
   "version": "3.11.4"
  }
 },
 "nbformat": 4,
 "nbformat_minor": 5
}
