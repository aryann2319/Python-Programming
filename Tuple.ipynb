{
 "cells": [
  {
   "cell_type": "code",
   "execution_count": 4,
   "id": "dc4a011c",
   "metadata": {},
   "outputs": [
    {
     "name": "stdout",
     "output_type": "stream",
     "text": [
      "('Hi', 'Hello')\n",
      "(1, 2, 4, 5, 6)\n",
      "('P', 'y', 't', 'h', 'o', 'n')\n"
     ]
    }
   ],
   "source": [
    "Tuple1 = ('Hi', 'Hello')\n",
    "print(Tuple1)\n",
    "\n",
    "# Creating a Tuple with the use of list\n",
    "list1 = [1, 2, 4, 5, 6]\n",
    "print(tuple(list1))\n",
    "\n",
    "# Creating a Tuple with the use of built-in function\n",
    "Tuple1 = tuple('Python')\n",
    "print(Tuple1)"
   ]
  },
  {
   "cell_type": "code",
   "execution_count": 2,
   "id": "30a7c0d5",
   "metadata": {},
   "outputs": [
    {
     "name": "stdout",
     "output_type": "stream",
     "text": [
      "(5, 'Welcome', 7, 'Aryan')\n",
      "((0, 1, 2, 3), ('python', 'programming'))\n",
      "('Aryan', 'Aryan', 'Aryan')\n"
     ]
    }
   ],
   "source": [
    "# Creating a Tuple with Mixed Datatype\n",
    "Tuple1 = (5, 'Welcome', 7, 'Aryan')\n",
    "print(Tuple1)\n",
    "\n",
    "# Creating a Tuple with nested tuples\n",
    "Tuple1 = (0, 1, 2, 3)\n",
    "Tuple2 = ('python', 'programming')\n",
    "Tuple3 = (Tuple1, Tuple2)\n",
    "print(Tuple3)\n",
    "\n",
    "# Creating a Tuple with repetition\n",
    "Tuple1 = ('Aryan',) * 3\n",
    "print(Tuple1)\n"
   ]
  },
  {
   "cell_type": "code",
   "execution_count": null,
   "id": "313a503b",
   "metadata": {},
   "outputs": [],
   "source": [
    "# Tuples are immutable and heterogeneous, elements are accessed via unpacking or indexing \n",
    "# Lists are mutable, hetrogeneous and is accessed by iterating over the list. "
   ]
  },
  {
   "cell_type": "code",
   "execution_count": 8,
   "id": "64054fe8",
   "metadata": {},
   "outputs": [
    {
     "name": "stdout",
     "output_type": "stream",
     "text": [
      "\n",
      "Values after unpacking: \n",
      "Hi\n",
      "Hey\n",
      "Hello\n"
     ]
    }
   ],
   "source": [
    "Tuple1 = (\"Hi\", \"Hey\", \"Hello\")\n",
    "\n",
    "# This line unpack values of Tuple1\n",
    "a, b, c = Tuple1\n",
    "\n",
    "print(\"\\nValues after unpacking: \")\n",
    "print(a)\n",
    "print(b)\n",
    "print(c)"
   ]
  },
  {
   "cell_type": "markdown",
   "id": "ebbff854",
   "metadata": {},
   "source": [
    "# Concatenation of Tuples"
   ]
  },
  {
   "cell_type": "code",
   "execution_count": 10,
   "id": "ea5a0be6",
   "metadata": {},
   "outputs": [
    {
     "name": "stdout",
     "output_type": "stream",
     "text": [
      "(0, 1, 2, 3, 'Hi', 'Hey', 'Hello')\n"
     ]
    }
   ],
   "source": [
    "Tuple1 = (0, 1, 2, 3)\n",
    "Tuple2 = ('Hi', 'Hey', 'Hello')\n",
    "\n",
    "print(Tuple1 + Tuple2)"
   ]
  },
  {
   "cell_type": "markdown",
   "id": "85630d09",
   "metadata": {},
   "source": [
    "# Sort Tuples in Increasing Order"
   ]
  },
  {
   "cell_type": "code",
   "execution_count": 13,
   "id": "a7d6598e",
   "metadata": {},
   "outputs": [
    {
     "name": "stdout",
     "output_type": "stream",
     "text": [
      "[(1, 2), (2, 5), (2, 3), (4, 4)]\n"
     ]
    }
   ],
   "source": [
    "tuple5 = [(2, 5), (1, 2), (4, 4), (2, 3)]\n",
    "t4=[]\n",
    "t4=sorted(tuple5, key=lambda x: x[0]) #Here, lambda x: x[0] extracts the first element of each tuple for sorting.\n",
    "print(t4)"
   ]
  },
  {
   "cell_type": "markdown",
   "id": "fcdab6d1",
   "metadata": {},
   "source": [
    "# Remove empty tuples from a list"
   ]
  },
  {
   "cell_type": "code",
   "execution_count": 14,
   "id": "a4e6c25d",
   "metadata": {},
   "outputs": [
    {
     "name": "stdout",
     "output_type": "stream",
     "text": [
      "[('ram', '15', '8'), ('laxman', 'sita'), ('krishna', 'akbar', '45'), ('', '')]\n"
     ]
    }
   ],
   "source": [
    "def Remove(tuples):\n",
    "    for i in tuples:\n",
    "        if(len(i)==0): # or if(i==()):\n",
    "            tuples.remove(i)\n",
    "    return tuples\n",
    "\n",
    "\n",
    "tuples = [(), ('ram','15','8'), (), ('laxman', 'sita'),\n",
    "        ('krishna', 'akbar', '45'), ('',''),()]\n",
    "print(Remove(tuples))"
   ]
  },
  {
   "cell_type": "markdown",
   "id": "8d2d17af",
   "metadata": {},
   "source": [
    "# Count occurrences of an element in a Tuple"
   ]
  },
  {
   "cell_type": "code",
   "execution_count": 7,
   "id": "59ee18a5",
   "metadata": {},
   "outputs": [
    {
     "name": "stdout",
     "output_type": "stream",
     "text": [
      "4\n"
     ]
    }
   ],
   "source": [
    "t9= (10, 8, 5, 2, 10, 15, 10, 8, 5, 8, 8, 2)\n",
    "# t10=[]\n",
    "# for i in t9:\n",
    "#     if i not in t10:\n",
    "#         t10.append(i)\n",
    "# print(t10)\n",
    "print(t9.count(8))"
   ]
  },
  {
   "cell_type": "code",
   "execution_count": 5,
   "id": "9ffe1273",
   "metadata": {},
   "outputs": [
    {
     "data": {
      "text/plain": [
       "2"
      ]
     },
     "execution_count": 5,
     "metadata": {},
     "output_type": "execute_result"
    }
   ],
   "source": [
    "t9= (10, 8, 5, 2, 10, 15, 10, 8, 5, 8, 8, 2)\n",
    "min(t9)"
   ]
  },
  {
   "cell_type": "code",
   "execution_count": null,
   "id": "f03cdc45",
   "metadata": {},
   "outputs": [],
   "source": []
  }
 ],
 "metadata": {
  "kernelspec": {
   "display_name": "Python 3 (ipykernel)",
   "language": "python",
   "name": "python3"
  },
  "language_info": {
   "codemirror_mode": {
    "name": "ipython",
    "version": 3
   },
   "file_extension": ".py",
   "mimetype": "text/x-python",
   "name": "python",
   "nbconvert_exporter": "python",
   "pygments_lexer": "ipython3",
   "version": "3.11.4"
  }
 },
 "nbformat": 4,
 "nbformat_minor": 5
}
