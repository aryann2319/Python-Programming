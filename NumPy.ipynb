{
 "cells": [
  {
   "cell_type": "code",
   "execution_count": 2,
   "id": "73c8d34b",
   "metadata": {},
   "outputs": [
    {
     "data": {
      "text/plain": [
       "dtype('<U32')"
      ]
     },
     "execution_count": 2,
     "metadata": {},
     "output_type": "execute_result"
    }
   ],
   "source": [
    "import numpy as np\n",
    "a=np.array([5.6,'hello',7,4,6.7])\n",
    "a.ndim\n",
    "a.dtype"
   ]
  },
  {
   "cell_type": "markdown",
   "id": "181d5bbf",
   "metadata": {},
   "source": [
    "1. a.ndim-gives the number of dimensions of the array as an integer value\n",
    "2. a.shape-indicating the size of the array for each dimension\n",
    "3. a.size-It gives the total number of elements of the array\n",
    "4. a.dtype- is the data type of the elements of the array.\n",
    "5. a.itemsize -specifies the size in bytes of each element of the array"
   ]
  },
  {
   "cell_type": "code",
   "execution_count": 15,
   "id": "63c2dc87",
   "metadata": {},
   "outputs": [
    {
     "data": {
      "text/plain": [
       "3.0"
      ]
     },
     "execution_count": 15,
     "metadata": {},
     "output_type": "execute_result"
    }
   ],
   "source": [
    "p=np.array([[1,2], [3,4]], dtype=float)\n",
    "p[1,0] #indexing"
   ]
  },
  {
   "cell_type": "code",
   "execution_count": 4,
   "id": "32e02a4f",
   "metadata": {},
   "outputs": [
    {
     "data": {
      "text/plain": [
       "array([[[1., 1., 1., 1.],\n",
       "        [1., 1., 1., 1.],\n",
       "        [1., 1., 1., 1.]],\n",
       "\n",
       "       [[1., 1., 1., 1.],\n",
       "        [1., 1., 1., 1.],\n",
       "        [1., 1., 1., 1.]]])"
      ]
     },
     "execution_count": 4,
     "metadata": {},
     "output_type": "execute_result"
    }
   ],
   "source": [
    "z=np.ones((2,3,4))\n",
    "z"
   ]
  },
  {
   "cell_type": "code",
   "execution_count": 15,
   "id": "aed0035d",
   "metadata": {},
   "outputs": [
    {
     "data": {
      "text/plain": [
       "array([10, 12, 14, 16, 18, 20, 22, 24, 26, 28])"
      ]
     },
     "execution_count": 15,
     "metadata": {},
     "output_type": "execute_result"
    }
   ],
   "source": [
    "np.arange(10, 30, 2)"
   ]
  },
  {
   "cell_type": "code",
   "execution_count": 17,
   "id": "f3207a5a",
   "metadata": {},
   "outputs": [
    {
     "data": {
      "text/plain": [
       "array([4, 3, 2, 1])"
      ]
     },
     "execution_count": 17,
     "metadata": {},
     "output_type": "execute_result"
    }
   ],
   "source": [
    "c=np.array([1, 2, 3, 4])\n",
    "c[1:3]\n",
    "c[::-1] #reverse an array"
   ]
  },
  {
   "cell_type": "code",
   "execution_count": 23,
   "id": "991ae75d",
   "metadata": {},
   "outputs": [
    {
     "data": {
      "text/plain": [
       "array([4, 7])"
      ]
     },
     "execution_count": 23,
     "metadata": {},
     "output_type": "execute_result"
    }
   ],
   "source": [
    "h=np.array([[2,3,4],[5,6,7],[3,4,5]])\n",
    "h[0:2,2] #access elements of cloumn 2 in row 0 and 1 "
   ]
  },
  {
   "cell_type": "code",
   "execution_count": 24,
   "id": "079c2d48",
   "metadata": {},
   "outputs": [
    {
     "data": {
      "text/plain": [
       "array([[5, 6, 7],\n",
       "       [3, 4, 5]])"
      ]
     },
     "execution_count": 24,
     "metadata": {},
     "output_type": "execute_result"
    }
   ],
   "source": [
    "h[1:3,0:3] #displays all 3 cloumns of last 2 rows "
   ]
  },
  {
   "cell_type": "code",
   "execution_count": 25,
   "id": "cb51a9f5",
   "metadata": {},
   "outputs": [
    {
     "data": {
      "text/plain": [
       "array([4, 7, 5])"
      ]
     },
     "execution_count": 25,
     "metadata": {},
     "output_type": "execute_result"
    }
   ],
   "source": [
    "h[:,2] #displays the last col"
   ]
  },
  {
   "cell_type": "markdown",
   "id": "5e385556",
   "metadata": {},
   "source": [
    "# operations on array\n",
    "1. arithmetic ar+ar1,-,*,@(matrix multiply),/,**,%\n",
    "2. transpose\n",
    "3. sort -1-D, for 2-D column-wise arr.sort(axis=0)\n",
    "4. concatenate\n",
    "5. reshaping\n",
    "6. split\n",
    "7. max,min\n",
    "8. mean\n",
    "9. dtd"
   ]
  },
  {
   "cell_type": "code",
   "execution_count": 29,
   "id": "756cfbcc",
   "metadata": {},
   "outputs": [
    {
     "data": {
      "text/plain": [
       "array([[8., 4.],\n",
       "       [6., 7.],\n",
       "       [0., 0.],\n",
       "       [0., 0.],\n",
       "       [0., 0.]])"
      ]
     },
     "execution_count": 29,
     "metadata": {},
     "output_type": "execute_result"
    }
   ],
   "source": [
    "# concatenate\n",
    "n1=np.array([[8,4],[6,7]])\n",
    "n2=np.zeros((3,2))\n",
    "c=np.concatenate((n1,n2))\n",
    "c"
   ]
  },
  {
   "cell_type": "code",
   "execution_count": 39,
   "id": "7cf8f4dc",
   "metadata": {},
   "outputs": [
    {
     "data": {
      "text/plain": [
       "array([8., 4., 6., 7., 0., 0., 0., 0., 0., 0.])"
      ]
     },
     "execution_count": 39,
     "metadata": {},
     "output_type": "execute_result"
    }
   ],
   "source": [
    "#reshape\n",
    "c.reshape(10)"
   ]
  },
  {
   "cell_type": "code",
   "execution_count": 51,
   "id": "f71dd28a",
   "metadata": {},
   "outputs": [
    {
     "name": "stdout",
     "output_type": "stream",
     "text": [
      "8.0\n",
      "0.0\n",
      "[8. 7.]\n",
      "[4. 6. 0. 0. 0.]\n",
      "[12. 13.  0.  0.  0.]\n"
     ]
    }
   ],
   "source": [
    "# max, min, sum\n",
    "m1= np.max(c)\n",
    "m3= np.max(c, axis=0) #find max element in each columns (axis=1 for each row)\n",
    "m2 = np.min(c)\n",
    "m4 = c.min(axis=1) # print min elements of each row\n",
    "m5 = c.sum(axis=1) # sum each row\n",
    "print(m1)\n",
    "print(m2)\n",
    "print(m3)\n",
    "print(m4)\n",
    "print(m5)"
   ]
  },
  {
   "cell_type": "code",
   "execution_count": 32,
   "id": "028755c2",
   "metadata": {},
   "outputs": [
    {
     "name": "stdout",
     "output_type": "stream",
     "text": [
      "[[ 2  3 10]\n",
      " [ 1  5  7]\n",
      " [ 2  5  7]]\n",
      "[ 1  2  2  3  5  5  7  7 10]\n",
      "[[ 1  5  2]\n",
      " [ 2  7  5]\n",
      " [ 3 10  7]]\n"
     ]
    }
   ],
   "source": [
    "#sort ----> np.sort(array, axis, order, kind)\n",
    "\n",
    "a = np.array([[3, 10, 2], [1, 5, 7], [2, 7, 5]])\n",
    "a1 = np.sort(a) #row wise sorting\n",
    "a2 = np.sort(a, axis = None)\n",
    "a3 = np.sort(a, axis = 0) #column wise sorting\n",
    "\n",
    "print(a1)\n",
    "print(a2)\n",
    "print(a3)"
   ]
  },
  {
   "cell_type": "code",
   "execution_count": 65,
   "id": "c3a29901",
   "metadata": {},
   "outputs": [
    {
     "data": {
      "text/plain": [
       "[array([[8., 4.]]),\n",
       " array([[6., 7.],\n",
       "        [0., 0.]]),\n",
       " array([[0., 0.],\n",
       "        [0., 0.]])]"
      ]
     },
     "execution_count": 65,
     "metadata": {},
     "output_type": "execute_result"
    }
   ],
   "source": [
    "np.split(c,[3]) #split at index 3\n",
    "np.split(c, [1,3]) #split at index 1 and 3"
   ]
  },
  {
   "cell_type": "code",
   "execution_count": 66,
   "id": "bd5c3bca",
   "metadata": {},
   "outputs": [
    {
     "data": {
      "text/plain": [
       "array([[16, 21, 26],\n",
       "       [22, 29, 36],\n",
       "       [34, 45, 56]])"
      ]
     },
     "execution_count": 66,
     "metadata": {},
     "output_type": "execute_result"
    }
   ],
   "source": [
    "# multiplication\n",
    "a=np.array([[2,3],[3,4],[5,6]])\n",
    "b=np.array([[2,3,4],[4,5,6]])\n",
    "e=a.dot(b)\n",
    "e"
   ]
  },
  {
   "cell_type": "code",
   "execution_count": 67,
   "id": "44b34891",
   "metadata": {},
   "outputs": [
    {
     "name": "stdout",
     "output_type": "stream",
     "text": [
      "[0 1 4 3 4]\n"
     ]
    }
   ],
   "source": [
    "numbers = np.array([0, 1, 3, 4])\n",
    "\n",
    "#insert(arrayname,index,value[,axis])\n",
    "array2 = np.insert(numbers, 2, 4) # insert 4 at index 2\n",
    "print(array2)"
   ]
  },
  {
   "cell_type": "code",
   "execution_count": 68,
   "id": "c2268c35",
   "metadata": {},
   "outputs": [
    {
     "name": "stdout",
     "output_type": "stream",
     "text": [
      "[0 1 4 5 6 7 2 3]\n"
     ]
    }
   ],
   "source": [
    "array1 = np.array([0, 1, 2, 3])\n",
    "array2 = np.array([4, 5, 6, 7])\n",
    "array3 = np.insert(array1, 2, array2)\n",
    "print(array3)"
   ]
  },
  {
   "cell_type": "code",
   "execution_count": 69,
   "id": "c4b35e22",
   "metadata": {},
   "outputs": [
    {
     "name": "stdout",
     "output_type": "stream",
     "text": [
      "[0 7 1 4 6 2 5 3]\n"
     ]
    }
   ],
   "source": [
    "array1 = np.array([0, 1, 2, 3])\n",
    "array2 = np.array([4, 5, 6, 7])\n",
    "\n",
    "# insert values from array2 to array1 before given indices\n",
    "array3 = np.insert(array1, [2, 3, 2, 1], array2)\n",
    "\n",
    "print(array3)"
   ]
  },
  {
   "cell_type": "code",
   "execution_count": 70,
   "id": "3075f710",
   "metadata": {},
   "outputs": [
    {
     "data": {
      "text/plain": [
       "array([[8., 6., 0., 0., 0.],\n",
       "       [4., 7., 0., 0., 0.]])"
      ]
     },
     "execution_count": 70,
     "metadata": {},
     "output_type": "execute_result"
    }
   ],
   "source": [
    "c.transpose()"
   ]
  },
  {
   "cell_type": "code",
   "execution_count": 75,
   "id": "3bba8699",
   "metadata": {},
   "outputs": [
    {
     "name": "stdout",
     "output_type": "stream",
     "text": [
      "[ 10  20  30  40  50  60 100 200 300]\n"
     ]
    }
   ],
   "source": [
    "x = np.array([[10, 20, 30], [40, 50, 60]])\n",
    "y = np.array([[100,200,300]])\n",
    "print(np.append(x, y)) "
   ]
  },
  {
   "cell_type": "code",
   "execution_count": null,
   "id": "17aacfab",
   "metadata": {},
   "outputs": [],
   "source": []
  }
 ],
 "metadata": {
  "kernelspec": {
   "display_name": "Python 3 (ipykernel)",
   "language": "python",
   "name": "python3"
  },
  "language_info": {
   "codemirror_mode": {
    "name": "ipython",
    "version": 3
   },
   "file_extension": ".py",
   "mimetype": "text/x-python",
   "name": "python",
   "nbconvert_exporter": "python",
   "pygments_lexer": "ipython3",
   "version": "3.11.4"
  }
 },
 "nbformat": 4,
 "nbformat_minor": 5
}
