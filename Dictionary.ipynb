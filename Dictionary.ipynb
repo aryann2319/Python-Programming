{
 "cells": [
  {
   "cell_type": "code",
   "execution_count": 2,
   "id": "32f5b040",
   "metadata": {},
   "outputs": [
    {
     "name": "stdout",
     "output_type": "stream",
     "text": [
      "\n",
      "Dictionary with the use of Integer Keys: \n",
      "{1: 'Geeks', 2: 'For', 3: 'Geeks'}\n",
      "\n",
      "Dictionary with the use of Mixed Keys: \n",
      "{'Name': 'Geeks', 1: [1, 2, 3, 4]}\n",
      "\n",
      "Empty Dictionary: \n",
      "{}\n",
      "\n",
      "Dictionary with the use of dict(): \n",
      "{1: 'Geeks', 2: 'For', 3: 'Geeks'}\n",
      "\n",
      "Dictionary with each item as a pair: \n",
      "{1: 'Geeks', 2: 'For'}\n"
     ]
    }
   ],
   "source": [
    "# Creating a Dictionary with Integer Keys\n",
    "Dict = {1: 'Geeks', 2: 'For', 3: 'Geeks'}\n",
    "print(\"\\nDictionary with the use of Integer Keys: \")\n",
    "print(Dict)\n",
    "\n",
    "# Creating a Dictionary with Mixed keys\n",
    "Dict = {'Name': 'Geeks', 1: [1, 2, 3, 4]}\n",
    "print(\"\\nDictionary with the use of Mixed Keys: \")\n",
    "print(Dict)\n",
    "\n",
    "# Creating an empty Dictionary\n",
    "Dict = {}\n",
    "print(\"\\nEmpty Dictionary: \")\n",
    "print(Dict)\n",
    "\n",
    "# Creating a Dictionary with dict() method\n",
    "Dict = dict({1: 'Geeks', 2: 'For', 3: 'Geeks'})\n",
    "print(\"\\nDictionary with the use of dict(): \")\n",
    "print(Dict)\n",
    "\n",
    "# Creating a Dictionary with each item as a Pair\n",
    "Dict = dict([(1, 'Geeks'), (2, 'For')])\n",
    "print(\"\\nDictionary with each item as a pair: \")\n",
    "print(Dict)"
   ]
  },
  {
   "cell_type": "markdown",
   "id": "f5e7c637",
   "metadata": {},
   "source": [
    "# Adding values"
   ]
  },
  {
   "cell_type": "code",
   "execution_count": 3,
   "id": "a7486988",
   "metadata": {},
   "outputs": [
    {
     "name": "stdout",
     "output_type": "stream",
     "text": [
      "Empty Dictionary: \n",
      "{}\n",
      "\n",
      "Dictionary after adding 3 elements: \n",
      "{0: 'Geeks', 2: 'For', 3: 1}\n",
      "\n",
      "Dictionary after adding 3 elements: \n",
      "{0: 'Geeks', 2: 'For', 3: 1, 'Value_set': (2, 3, 4)}\n",
      "\n",
      "Updated key value: \n",
      "{0: 'Geeks', 2: 'Welcome', 3: 1, 'Value_set': (2, 3, 4)}\n",
      "\n",
      "Adding a Nested Key: \n",
      "{0: 'Geeks', 2: 'Welcome', 3: 1, 'Value_set': (2, 3, 4), 5: {'Nested': {'1': 'Life', '2': 'Geeks'}}}\n"
     ]
    }
   ],
   "source": [
    "# Creating an empty Dictionary\n",
    "Dict = {}\n",
    "print(\"Empty Dictionary: \")\n",
    "print(Dict)\n",
    "\n",
    "# Adding elements one at a time\n",
    "Dict[0] = 'Geeks'\n",
    "Dict[2] = 'For'\n",
    "Dict[3] = 1\n",
    "print(\"\\nDictionary after adding 3 elements: \")\n",
    "print(Dict)\n",
    "\n",
    "# Adding set of values to a single Key\n",
    "Dict['Value_set'] = 2, 3, 4\n",
    "print(\"\\nDictionary after adding 3 elements: \")\n",
    "print(Dict)\n",
    "\n",
    "# Updating existing Key's Value\n",
    "Dict[2] = 'Welcome'\n",
    "print(\"\\nUpdated key value: \")\n",
    "print(Dict)\n",
    "\n",
    "# Adding Nested Key value to Dictionary\n",
    "Dict[5] = {'Nested': {'1': 'Life', '2': 'Geeks'}}\n",
    "print(\"\\nAdding a Nested Key: \")\n",
    "print(Dict)"
   ]
  },
  {
   "cell_type": "raw",
   "id": "8c263cb8",
   "metadata": {},
   "source": [
    "# to access an element use dict[key] or dict.get(key)....here dict is var name"
   ]
  },
  {
   "cell_type": "markdown",
   "id": "33be27e8",
   "metadata": {},
   "source": [
    "# Dictionary Methods"
   ]
  },
  {
   "cell_type": "code",
   "execution_count": 5,
   "id": "2e8403af",
   "metadata": {},
   "outputs": [
    {
     "name": "stdout",
     "output_type": "stream",
     "text": [
      "{1: 'Python', 2: 'Java', 3: 'Ruby', 4: 'Scala'}\n",
      "{}\n",
      "Python\n",
      "dict_items([(1, 'Python'), (2, 'Java'), (3, 'Ruby'), (4, 'Scala')])\n",
      "dict_keys([1, 2, 3, 4])\n",
      "{1: 'Python', 2: 'Java', 3: 'Ruby'}\n",
      "{1: 'Python', 2: 'Java'}\n",
      "{1: 'Python', 2: 'Java', 3: 'Scala'}\n",
      "dict_values(['Python', 'Java', 'Scala'])\n",
      "{'Name': 5, 'Age': 5, 'ID': 5}\n"
     ]
    }
   ],
   "source": [
    "# demo for all dictionary methods\n",
    "dict1 = {1: \"Python\", 2: \"Java\", 3: \"Ruby\", 4: \"Scala\"}\n",
    "\n",
    "# copy() method\n",
    "dict2 = dict1.copy()\n",
    "print(dict2)\n",
    "\n",
    "# clear() method\n",
    "dict1.clear()\n",
    "print(dict1)\n",
    "\n",
    "# get(key, def_value) method\n",
    "print(dict2.get(1))\n",
    "\n",
    "# items() method Returns a list containing a tuple for each key value pair\n",
    "print(dict2.items())\n",
    "\n",
    "# keys() method\n",
    "print(dict2.keys())\n",
    "\n",
    "# pop() method\n",
    "dict2.pop(4)\n",
    "print(dict2)\n",
    "\n",
    "# popitem() method removes the last inserted key-value pair\n",
    "dict2.popitem()\n",
    "print(dict2)\n",
    "\n",
    "# update() method\n",
    "dict2.update({3: \"Scala\"})\n",
    "print(dict2)\n",
    "\n",
    "# values() method\n",
    "print(dict2.values())\n",
    "\n",
    "#fromkeys(seq,value) :- This method is used to declare a new dictionary from the sequence mentioned in its arguments. \n",
    "#This function can also initialize the declared dictionary with \"value\" argument.\n",
    "sequ = ('Name', 'Age', 'ID')\n",
    "dict = dict.fromkeys(sequ,5)\n",
    "print(dict)"
   ]
  },
  {
   "cell_type": "code",
   "execution_count": null,
   "id": "0814708e",
   "metadata": {},
   "outputs": [],
   "source": []
  },
  {
   "cell_type": "code",
   "execution_count": 6,
   "id": "6f4b919a",
   "metadata": {},
   "outputs": [
    {
     "name": "stdout",
     "output_type": "stream",
     "text": [
      "Counter({4: 5, 3: 2, 2: 2})\n",
      "4\n"
     ]
    }
   ],
   "source": [
    "from collections import Counter\n",
    "\n",
    "arr = [3,3,4,2,4,4,2,4,4]\n",
    "freqDict = Counter(arr)\n",
    "print(freqDict)\n",
    "size = len(arr)\n",
    "for (key,val) in freqDict.items():\n",
    "    if (val > (size/2)):\n",
    "        print(key)"
   ]
  },
  {
   "cell_type": "code",
   "execution_count": 10,
   "id": "aac59914",
   "metadata": {},
   "outputs": [
    {
     "name": "stdout",
     "output_type": "stream",
     "text": [
      "{80, 20}\n"
     ]
    }
   ],
   "source": [
    "ar1 = set([1, 5, 10, 20, 40, 80])\n",
    "ar2 = set([6, 7, 20, 80, 100])\n",
    "ar3 = set([3, 4, 15, 20, 30, 70, 80, 120])\n",
    "print(ar1 & ar2 & ar3)"
   ]
  },
  {
   "cell_type": "code",
   "execution_count": 22,
   "id": "85cc57e0",
   "metadata": {},
   "outputs": [
    {
     "name": "stdout",
     "output_type": "stream",
     "text": [
      "{'akash': 10, 'gaurav': 12, 'anand': 14, 'suraj': 20, 'akhil': 25, 'ashish': 30}\n",
      "dict_keys(['akash', 'gaurav', 'anand', 'suraj', 'akhil', 'ashish'])\n",
      "['akash', 'gaurav', 'anand', 'suraj', 'akhil', 'ashish']\n"
     ]
    }
   ],
   "source": [
    "tups = [(\"akash\", 10), (\"gaurav\", 12), (\"anand\", 14), (\"suraj\", 20), (\"akhil\", 25), (\"ashish\", 30)]\n",
    "dict1=dict(tups)\n",
    "print(dict1)\n",
    "print(dict1.keys())\n",
    "l=[key for key in dict1]\n",
    "print(l) "
   ]
  },
  {
   "cell_type": "code",
   "execution_count": 19,
   "id": "1d2ea75d",
   "metadata": {},
   "outputs": [
    {
     "name": "stdout",
     "output_type": "stream",
     "text": [
      "Maximum value is:  95\n",
      "Minimum value is:  72\n"
     ]
    }
   ],
   "source": [
    "scores = {\n",
    "    \"John\": 88, \"Ajay\": 95, \"Bheem\": 72, \"Dhruv\": 90\n",
    "}\n",
    "max_value = max(scores.items(), key = lambda item: item[1])\n",
    "min_value = min(scores.items(), key = lambda item: item[1])\n",
    "print(\"Maximum value is: \",max_value[1])\n",
    "print(\"Minimum value is: \", min_value[1])"
   ]
  },
  {
   "cell_type": "code",
   "execution_count": null,
   "id": "e9f69e40",
   "metadata": {},
   "outputs": [],
   "source": []
  }
 ],
 "metadata": {
  "kernelspec": {
   "display_name": "Python 3 (ipykernel)",
   "language": "python",
   "name": "python3"
  },
  "language_info": {
   "codemirror_mode": {
    "name": "ipython",
    "version": 3
   },
   "file_extension": ".py",
   "mimetype": "text/x-python",
   "name": "python",
   "nbconvert_exporter": "python",
   "pygments_lexer": "ipython3",
   "version": "3.11.4"
  }
 },
 "nbformat": 4,
 "nbformat_minor": 5
}
