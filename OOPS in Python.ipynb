{
 "cells": [
  {
   "cell_type": "code",
   "execution_count": 1,
   "id": "0a4ea674",
   "metadata": {},
   "outputs": [],
   "source": [
    "'''An Object is an instance of a Class. A class is like a blueprint while an instance is a copy of the class with\n",
    "actual values. It’s not an idea anymore, it’s an actual dog'''"
   ]
  },
  {
   "cell_type": "code",
   "execution_count": 64,
   "id": "52692e21",
   "metadata": {},
   "outputs": [
    {
     "name": "stdout",
     "output_type": "stream",
     "text": [
      "Shiro is a dog\n",
      "Breed:  Pug\n",
      "Color:  brown\n",
      "\n",
      "Buzo is a dog\n",
      "Breed:  Bulldog\n",
      "Color:  black\n",
      "\n",
      "Simba is a whale\n",
      "\n",
      "Accessing class variable using class name\n",
      "dog\n"
     ]
    }
   ],
   "source": [
    "# Class for Dog\n",
    "class Dog:\n",
    "\n",
    "    # Class Variable\n",
    "    animal = 'dog'\n",
    "\n",
    "    # The __init__ method is similar to constructors in C++ and Java. \n",
    "    #Constructors are used to initializing the object’s state. \n",
    "    def __init__(self, breed, color):\n",
    "\n",
    "        # Instance Variable\n",
    "        self.breed = breed\n",
    "        self.color = color\n",
    "\n",
    "        \n",
    "\n",
    "# When an object of a class is created, the class is said to be instantiated.  \n",
    "# All the instances share the attributes and the behavior of the class. \n",
    "# But the values of those attributes, i.e. the state are unique for each object\n",
    "\n",
    "Shiro = Dog(\"Pug\", \"brown\") # Objects of Dog class \n",
    "Buzo = Dog(\"Bulldog\", \"black\")\n",
    "Simba = Dog(\"Pug\", \"cream\")\n",
    "\n",
    "print('Shiro is a', Shiro.animal)   # Class variables can be accessed using object\n",
    "print('Breed: ', Shiro.breed)\n",
    "print('Color: ', Shiro.color)\n",
    "\n",
    "print('\\nBuzo is a', Buzo.animal)\n",
    "print('Breed: ', Buzo.breed)\n",
    "print('Color: ', Buzo.color)\n",
    "\n",
    "Simba.animal = 'whale'\n",
    "print(\"\\nSimba is a\",Simba.animal)\n",
    "\n",
    "# Class variables can be accessed using class name also\n",
    "print(\"\\nAccessing class variable using class name\")\n",
    "print(Dog.animal)"
   ]
  },
  {
   "cell_type": "code",
   "execution_count": null,
   "id": "90758c31",
   "metadata": {},
   "outputs": [],
   "source": [
    "'''Instance and class variables\n",
    "\n",
    "Instance variables are for data, unique to each instance and class variables are for attributes and methods\n",
    "shared by all instances of the class. \n",
    "Instance variables are variables whose value is assigned inside a constructor or method with self whereas \n",
    "class variables are variables whose value is assigned in the class.'''\n",
    "\n",
    "-----------------------------------------------------------------------\n",
    "\n",
    "'''Types of constructors :\n",
    "\n",
    "1. Default constructor:\n",
    "The default constructor is a simple constructor which doesn’t accept any arguments. \n",
    "Its definition has only one argument which is a reference to the instance being constructed.\n",
    "\n",
    "2. Parameterized constructor:\n",
    "constructor with parameters is known as parameterized constructor. The parameterized constructor takes its \n",
    "first argument as a reference to the instance being constructed known as self and the rest of the arguments \n",
    "are provided by the programmer.'''"
   ]
  },
  {
   "cell_type": "code",
   "execution_count": 7,
   "id": "61b41cf6",
   "metadata": {},
   "outputs": [
    {
     "name": "stdout",
     "output_type": "stream",
     "text": [
      "11\n",
      "8\n"
     ]
    }
   ],
   "source": [
    "class addition: \n",
    "    first=0\n",
    "    second=0\n",
    "    answer=0\n",
    "    \n",
    "    def __init__(self, f, s):\n",
    "        self.first = f\n",
    "        self.second = s\n",
    "    \n",
    "    # all class methods must have an extra first parameter(self) in the method definition.\n",
    "    def add(self):\n",
    "        self.answer = self.first + self.second\n",
    "        print(self.answer)\n",
    "\n",
    "obj = addition(2,9)\n",
    "obj.add()\n",
    "\n",
    "obj2 = addition(3,5)\n",
    "obj2.add()"
   ]
  },
  {
   "cell_type": "markdown",
   "id": "21f4108d",
   "metadata": {},
   "source": [
    "# Inheritence"
   ]
  },
  {
   "cell_type": "code",
   "execution_count": null,
   "id": "d48a49e2",
   "metadata": {},
   "outputs": [],
   "source": [
    "'''t is primarily used to implement relationship among classes. The main advantage of inheritance is the ability \n",
    "to reuse code. This reduces redundancy and makes maintenance easier. \n",
    "For example, if you need to update a common feature, you only have to do it in one place instead of \n",
    "multiple classes.'''"
   ]
  },
  {
   "cell_type": "code",
   "execution_count": 8,
   "id": "608c117f",
   "metadata": {},
   "outputs": [],
   "source": [
    "class Shape:\n",
    "    def __init__(self,color):\n",
    "        self.color=color\n",
    "        \n",
    "    def display(self):\n",
    "        print(self.color)"
   ]
  },
  {
   "cell_type": "code",
   "execution_count": 9,
   "id": "ea6e2445",
   "metadata": {},
   "outputs": [
    {
     "name": "stdout",
     "output_type": "stream",
     "text": [
      "6 7\n",
      "red\n"
     ]
    }
   ],
   "source": [
    "class Rect(Shape):\n",
    "    def __init__(self,color,l,w):\n",
    "        super().__init__(color)\n",
    "        #Shape.__init__(self,color)\n",
    "        self.l=l\n",
    "        self.w=w\n",
    "    def display(self):\n",
    "        print(self.l,self.w)\n",
    "        super().display()\n",
    "r=Rect(\"red\",6,7)\n",
    "r.display()"
   ]
  },
  {
   "cell_type": "code",
   "execution_count": 12,
   "id": "d3ef213f",
   "metadata": {},
   "outputs": [
    {
     "name": "stdout",
     "output_type": "stream",
     "text": [
      "8\n",
      "6 7\n",
      "fgghf\n"
     ]
    }
   ],
   "source": [
    "class Cuboid(Rect):\n",
    "    def __init__(self,color,l,w,h):\n",
    "        super().__init__(color, l, w)\n",
    "        #Rect.__init__(self,color,l,w)\n",
    "        self.h=h\n",
    "       \n",
    "    def display(self):\n",
    "        \n",
    "        print(self.h)\n",
    "        super().display()\n",
    "\n",
    "c=Cuboid(\"fgghf\",6,7,8)\n",
    "c.display()"
   ]
  },
  {
   "cell_type": "code",
   "execution_count": 26,
   "id": "fbd208ae",
   "metadata": {},
   "outputs": [
    {
     "name": "stdout",
     "output_type": "stream",
     "text": [
      "8 9\n",
      "40\n",
      "72\n",
      "40 50\n",
      "2000\n"
     ]
    }
   ],
   "source": [
    "class Rect():\n",
    "    r=8\n",
    "    def __init__(self,l,w):\n",
    "        self.l=l\n",
    "        self.w=w\n",
    "    def display(self):\n",
    "        print(self.l,self.w)\n",
    "    \n",
    "#     @classmethod  \n",
    "#     def temp(cls):\n",
    "#         print(cls.r*9)\n",
    "        \n",
    "    @staticmethod  \n",
    "    def temp():\n",
    "        print(Rect.r*5)\n",
    "        \n",
    "    \n",
    "    # __str__ defines what gets shown when you print(object)\n",
    "    # It's used to make your objects more readable and user-friendly\n",
    "    # If you don’t define __str__, printing the object gives you the default memory address\n",
    "    def __str__(self):\n",
    "        return(str(self.l*self.w))\n",
    "\n",
    "robj=Rect(8,9)\n",
    "robj.display()\n",
    "Rect.temp()\n",
    "print(robj)\n",
    "\n",
    "r1=Rect(40,50)\n",
    "Rect.display(r1)\n",
    "print(r1)"
   ]
  },
  {
   "cell_type": "code",
   "execution_count": 27,
   "id": "37820c3e",
   "metadata": {},
   "outputs": [
    {
     "name": "stdout",
     "output_type": "stream",
     "text": [
      "Area of r1: 20\n",
      "Area of r2: 36\n",
      "Total rectangles created: 2\n",
      "True\n",
      "False\n"
     ]
    }
   ],
   "source": [
    "# @staticmethod, @classmethod, and regular instance methods all in one\n",
    "\n",
    "class Rectangle:\n",
    "    count = 0 \n",
    "\n",
    "    def __init__(self, l, w):\n",
    "        self.l = l\n",
    "        self.w = w\n",
    "        Rectangle.count += 1\n",
    "\n",
    "    # Instance method (uses self)\n",
    "    def area(self):\n",
    "        return self.l * self.w\n",
    "\n",
    "    # Class method (uses cls)\n",
    "    @classmethod\n",
    "    def how_many(cls):\n",
    "        print(f\"Total rectangles created: {cls.count}\")\n",
    "\n",
    "    # Static method (just a utility)\n",
    "    @staticmethod\n",
    "    def is_square(length, width):\n",
    "        return length == width\n",
    "\n",
    "    \n",
    "# Create some rectangles\n",
    "r1 = Rectangle(4, 5)\n",
    "r2 = Rectangle(6, 6)\n",
    "\n",
    "# Instance method (uses self)\n",
    "print(\"Area of r1:\", r1.area())         \n",
    "print(\"Area of r2:\", r2.area())        \n",
    "\n",
    "# Class method (uses cls).....Class methods are methods that are bound to the class and not the instance of the class. \n",
    "# They are used to modify or access class attributes.\n",
    "Rectangle.how_many()\n",
    "\n",
    "# Static method (just a helper).....Static methods are methods that belong to a class but do not access or modify the \n",
    "# class or instance attributes.\n",
    "print(Rectangle.is_square(4, 4))        \n",
    "print(Rectangle.is_square(4, 5))     \n"
   ]
  },
  {
   "cell_type": "markdown",
   "id": "30b4665a",
   "metadata": {},
   "source": [
    "# Encapsulation"
   ]
  },
  {
   "cell_type": "code",
   "execution_count": null,
   "id": "5e69f703",
   "metadata": {},
   "outputs": [],
   "source": [
    "'''It describes the idea of wrapping data and the methods that work on data within one unit. This puts \n",
    "restrictions on accessing variables and methods directly and can prevent the accidental modification of data.\n",
    "A class is an example of encapsulation as it encapsulates all the data that is member functions, variables, etc.\n",
    "\n",
    "\n",
    "Consider a real-life example of encapsulation, in a company, there are different sections like the accounts section, \n",
    "finance section, sales section etc. The finance section handles all the financial transactions and keeps records of \n",
    "all the data related to finance. Similarly, the sales section handles all the sales-related activities and keeps\n",
    "records of all the sales. Now there may arise a situation when for some reason an official from the finance section \n",
    "needs all the data about sales in a particular month. In this case, he is not allowed to directly access the data\n",
    "of the sales section. He will first have to contact some other officer in the sales section and then request him \n",
    "to give the particular data. This is what encapsulation is. Here the data of the sales section and the employees that\n",
    "can manipulate them are wrapped under a single name “sales section”. Using encapsulation also hides the data. In this \n",
    "example, the data of the sections like sales, finance, or accounts are hidden from any other section.'''"
   ]
  },
  {
   "cell_type": "code",
   "execution_count": 46,
   "id": "c633fe32",
   "metadata": {},
   "outputs": [
    {
     "name": "stdout",
     "output_type": "stream",
     "text": [
      "Person object aryan\n",
      "101\n",
      "Rahul\n",
      "40000\n"
     ]
    }
   ],
   "source": [
    "# Protected members\n",
    "\n",
    "'''Protected members (in C++ and JAVA) are those members of the class that cannot be accessed outside the \n",
    "class but can be accessed from within the class and its subclasses. To accomplish this in Python, just \n",
    "follow the convention by prefixing the name of the member by a single underscore “_”.\n",
    "Although the protected variable can be accessed out of the class as well as in the derived class(modified too), \n",
    "it is customary(convention not a rule) to not access the protected out the class body.'''\n",
    "\n",
    "class Person:\n",
    "    def __init__(self, id, name):\n",
    "        self.id = id\n",
    "        self._name = name\n",
    "\n",
    "class Employee(Person):\n",
    "    def __init__(self, id, name, salary):\n",
    "        super().__init__(id, name)\n",
    "        self.salary = salary\n",
    "\n",
    "    def printDetails(self):\n",
    "        print(self.id)\n",
    "        print(self._name)\n",
    "        print(self.salary)\n",
    "\n",
    "e = Employee(101, \"Rahul\", 40000)\n",
    "p = Person(102, 'aryan')\n",
    "print(\"Person object\", p._name) # accessing outside class through name mangling\n",
    "e.printDetails()"
   ]
  },
  {
   "cell_type": "code",
   "execution_count": 51,
   "id": "1f2308be",
   "metadata": {},
   "outputs": [
    {
     "name": "stdout",
     "output_type": "stream",
     "text": [
      "through person class display method aryan\n",
      "Person object aryan\n",
      "101\n",
      "40000\n"
     ]
    }
   ],
   "source": [
    "# Private members\n",
    "\n",
    "'''Private members are similar to protected members, the difference is that the class members declared\n",
    "private should neither be accessed outside the class nor by any base class. In Python, there is no existence\n",
    "of Private instance variablesthat cannot be accessed except inside a class.\n",
    "However, to define a private member prefix the member name with double underscore “__”.\n",
    "Note:Python’s private and protected members can be accessed outside the class through python name mangling.'''\n",
    "\n",
    "class Person:\n",
    "    def __init__(self, id, name):\n",
    "        self.id = id\n",
    "        self.__name = name\n",
    "        \n",
    "    def display(self):\n",
    "        print(\"through person class display method-\", self.__name)\n",
    "\n",
    "class Employee(Person):\n",
    "    def __init__(self, id, name, salary):\n",
    "        super().__init__(id, name)\n",
    "        self.salary = salary\n",
    "\n",
    "    def printDetails(self):\n",
    "        print(self.id)\n",
    "#         print(self.__name)   cannot access here as __name is private\n",
    "        print(self.salary)\n",
    "\n",
    "e = Employee(101, \"Rahul\", 40000)\n",
    "p = Person(102, 'aryan')\n",
    "p.display()\n",
    "print(\"Person object-\", p._Person__name) # accessing outside class through name mangling\n",
    "e.printDetails()"
   ]
  },
  {
   "cell_type": "markdown",
   "id": "1346c549",
   "metadata": {},
   "source": [
    "# Polymorphism"
   ]
  },
  {
   "cell_type": "code",
   "execution_count": null,
   "id": "f05111af",
   "metadata": {},
   "outputs": [],
   "source": [
    "# Polymorphism allows a single name to have different forms.\n",
    "\n",
    "# Polymorphism is categorized into two types:\n",
    "# 1. Static Polymorphism: Also known as compile-time polymorphism.\n",
    "# 2. Dynamic Polymorphism: Also known as runtime polymorphism."
   ]
  },
  {
   "cell_type": "code",
   "execution_count": 56,
   "id": "c264b277",
   "metadata": {},
   "outputs": [
    {
     "name": "stdout",
     "output_type": "stream",
     "text": [
      "10\n",
      "20\n"
     ]
    }
   ],
   "source": [
    "# Static Polymorphism\n",
    "\n",
    "'''static polymorphism is typically achieved through function overloading. Function overloading allows\n",
    "multiple functions to have the same name but different parameters.\n",
    "In Python, which is a dynamically typed language, function overloading based on the number or type of\n",
    "parameters is not directly supported.'''\n",
    "\n",
    "def fun(a, b):\n",
    "    print(a)\n",
    "    print(b)\n",
    "\n",
    "def fun(a, b, c):\n",
    "    print(a)\n",
    "    print(b)\n",
    "    print(c)\n",
    "\n",
    "def fun(list):\n",
    "    for x in list:\n",
    "        print(x)\n",
    "\n",
    "#fun(10, 20)  # This will result in an error due to multiple definitions of fun() with different number of arguments\n",
    "\n",
    "fun([10, 20])\n",
    "\n",
    "'''Python does not support static polymorphism in the traditional sense. When multiple functions with the same\n",
    "name are defined,the latest definition overwrites the previous ones. Therefore, calling fun(10, 20) results in an \n",
    "error because the last definition of fun expects only one parameter.'''"
   ]
  },
  {
   "cell_type": "code",
   "execution_count": 59,
   "id": "0cc2a48b",
   "metadata": {},
   "outputs": [
    {
     "name": "stdout",
     "output_type": "stream",
     "text": [
      "[10, 20]\n",
      "Sandeep\n",
      "8\n"
     ]
    }
   ],
   "source": [
    "'''Despite the limitation with static polymorphism, Python inherently supports dynamic polymorphism. This\n",
    "is because Python is a dynamically typed language, meaning you don't need to specify data types explicitly. \n",
    "A single function can accept different types of data.'''\n",
    " \n",
    "def fun(data):\n",
    "    print(data)\n",
    "\n",
    "#fun(10, 20)  # This will still cause an error\n",
    "fun([10, 20])  # Output: 10 20\n",
    "fun(\"Sandeep\")  # Output: Sandeep\n",
    "fun(8)"
   ]
  },
  {
   "cell_type": "code",
   "execution_count": 61,
   "id": "0f0e0a34",
   "metadata": {},
   "outputs": [
    {
     "name": "stdout",
     "output_type": "stream",
     "text": [
      "10\n",
      "20\n",
      "30\n",
      "a\n",
      "b\n",
      "c\n",
      "1\n",
      "2\n",
      "3\n"
     ]
    }
   ],
   "source": [
    "'''Emulating Static Polymorphism\n",
    "Although Python doesn't support static polymorphism based on the number of parameters, you can emulate \n",
    "this behavior by using containers like lists or tuples. By passing a container, you can handle multiple \n",
    "arguments within a single parameter.'''\n",
    "\n",
    "def fun(l):\n",
    "    for x in l:\n",
    "        print(x)\n",
    "\n",
    "fun([10, 20, 30]) \n",
    "fun((\"a\", \"b\", \"c\"))  \n",
    "fun({1, 2, 3}) \n",
    "# fun(9) -----> error, object is not iterable\n",
    "\n",
    "\n",
    "'''Using containers to pass multiple arguments provides flexibility. You can pass different types of containers, \n",
    "and the function can process each element accordingly. This method aligns with Python's dynamic typing and enhances\n",
    "the function's versatility.'''"
   ]
  },
  {
   "cell_type": "code",
   "execution_count": 7,
   "id": "c2ba46cf",
   "metadata": {},
   "outputs": [
    {
     "name": "stdout",
     "output_type": "stream",
     "text": [
      "Enter a number to find its square: s\n",
      "Error: Invalid input! Please enter a numeric value.\n"
     ]
    }
   ],
   "source": [
    "class Square:\n",
    "    \n",
    "    def __init__(self, value):\n",
    "        self.v=value\n",
    "\n",
    "    def calculate_square(self):\n",
    "        try:\n",
    "            # Try converting the value to float\n",
    "            num = int(self.v)\n",
    "            return num ** 2\n",
    "        except ValueError:\n",
    "            # If conversion fails, raise a custom error message\n",
    "            raise ValueError(\"Invalid input! Please enter a numeric value.\")\n",
    "\n",
    "# Example usage\n",
    "user_input = input(\"Enter a number to find its square: \")\n",
    "\n",
    "try:\n",
    "    sq = Square(user_input)\n",
    "    result = sq.calculate_square()\n",
    "    print(\"Square is:\", result)\n",
    "except ValueError as e:\n",
    "    print(\"Error:\", e)\n"
   ]
  },
  {
   "cell_type": "code",
   "execution_count": null,
   "id": "4d5d9e04",
   "metadata": {},
   "outputs": [],
   "source": []
  }
 ],
 "metadata": {
  "kernelspec": {
   "display_name": "Python 3 (ipykernel)",
   "language": "python",
   "name": "python3"
  },
  "language_info": {
   "codemirror_mode": {
    "name": "ipython",
    "version": 3
   },
   "file_extension": ".py",
   "mimetype": "text/x-python",
   "name": "python",
   "nbconvert_exporter": "python",
   "pygments_lexer": "ipython3",
   "version": "3.11.4"
  }
 },
 "nbformat": 4,
 "nbformat_minor": 5
}
