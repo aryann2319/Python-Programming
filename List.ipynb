{
 "cells": [
  {
   "cell_type": "code",
   "execution_count": 7,
   "id": "2ea3a81c",
   "metadata": {},
   "outputs": [
    {
     "name": "stdout",
     "output_type": "stream",
     "text": [
      "[1, 2, 'hi', 4, 'hello', 6, 'hey']\n",
      "7\n"
     ]
    }
   ],
   "source": [
    "# Hetrogenous\n",
    "# Mutable\n",
    "# Contains duplicates\n",
    "# accessed by iterating over the list\n",
    "\n",
    "List = [1, 2, 'hi', 4, 'hello', 6, 'hey']\n",
    "print(List)\n",
    "print(len(List))"
   ]
  },
  {
   "cell_type": "code",
   "execution_count": 6,
   "id": "b3be5a95",
   "metadata": {},
   "outputs": [
    {
     "data": {
      "text/plain": [
       "'hello'"
      ]
     },
     "execution_count": 6,
     "metadata": {},
     "output_type": "execute_result"
    }
   ],
   "source": [
    "# Multi Dimensional list\n",
    "\n",
    "l1 = [['hey', 'hi'], ['hello']]\n",
    "l1[1][0]"
   ]
  },
  {
   "cell_type": "code",
   "execution_count": 16,
   "id": "9a58dbe1",
   "metadata": {},
   "outputs": [
    {
     "name": "stdout",
     "output_type": "stream",
     "text": [
      "Enter element3\n",
      "Enter element8\n",
      "Enter element9\n",
      "Enter element1\n",
      "[3, 8, 9, 1]\n",
      "[3, 8, 9, 12, 1, 8, 'hi', 'hello']\n"
     ]
    }
   ],
   "source": [
    "l3=[]\n",
    "for i in range(4):\n",
    "    i=int(input(\"Enter element\"))\n",
    "    l3.append(i)\n",
    "print(l3)\n",
    "\n",
    "# insert an element explicitly\n",
    "l3.insert(3, 12) # 3rd index pe 12 daldo\n",
    "\n",
    "l3.extend([8, 'hi', 'hello']) #-> add to the end of list\n",
    "print(l3)"
   ]
  },
  {
   "cell_type": "code",
   "execution_count": 17,
   "id": "18f5451d",
   "metadata": {},
   "outputs": [
    {
     "name": "stdout",
     "output_type": "stream",
     "text": [
      "['hello', 'hi', 8, 1, 12, 9, 8, 3]\n"
     ]
    }
   ],
   "source": [
    "l3.reverse()\n",
    "print(l3)"
   ]
  },
  {
   "cell_type": "markdown",
   "id": "5da85ed0",
   "metadata": {},
   "source": [
    "#  remove or pop element"
   ]
  },
  {
   "cell_type": "code",
   "execution_count": 18,
   "id": "525429d7",
   "metadata": {},
   "outputs": [
    {
     "name": "stdout",
     "output_type": "stream",
     "text": [
      "['hello', 'hi', 8, 12, 9, 8, 3]\n",
      "['hello', 'hi', 8, 12, 9, 8]\n"
     ]
    }
   ],
   "source": [
    "# remove(value) or pop(index) or pop()->removes last element\n",
    "l3.remove(1)\n",
    "print(l3)\n",
    "\n",
    "l3.pop()\n",
    "print(l3)"
   ]
  },
  {
   "cell_type": "code",
   "execution_count": 2,
   "id": "73038ac0",
   "metadata": {},
   "outputs": [
    {
     "data": {
      "text/plain": [
       "['0']"
      ]
     },
     "execution_count": 2,
     "metadata": {},
     "output_type": "execute_result"
    }
   ],
   "source": [
    "#slicing\n",
    "\n",
    "l4=['2','4','0','3','8','1']\n",
    "l4[2:-3]\n",
    "#l4[::-1]"
   ]
  },
  {
   "cell_type": "code",
   "execution_count": 25,
   "id": "875a720a",
   "metadata": {},
   "outputs": [
    {
     "name": "stdout",
     "output_type": "stream",
     "text": [
      "['a', 'r', 'y', 'a', 'n']\n"
     ]
    }
   ],
   "source": [
    "s=\"aryan\"\n",
    "l=[]\n",
    "for i in s:\n",
    "    l.append(i)\n",
    "print(l)"
   ]
  },
  {
   "cell_type": "markdown",
   "id": "4652d1cd",
   "metadata": {},
   "source": [
    "# List Comprehension"
   ]
  },
  {
   "cell_type": "code",
   "execution_count": 42,
   "id": "8991cc88",
   "metadata": {},
   "outputs": [
    {
     "name": "stdout",
     "output_type": "stream",
     "text": [
      "[1, 9, 25, 49, 81, 121, 169, 225, 289, 361, 441, 529, 625, 729, 841, 961, 1089, 1225, 1369, 1521, 1681, 1849, 2025, 2209, 2401]\n"
     ]
    }
   ],
   "source": [
    "# print sqaure of odd numbers \n",
    "l3=[]\n",
    "for i in range(51):\n",
    "    if(i%2==1):\n",
    "        l3.append(i**2)\n",
    "#print(l3)\n",
    "        \n",
    "# converting the above code to list comprehension\n",
    "l4=[i**2 for i in range(51) if(i%2==1)]\n",
    "print(l4)"
   ]
  },
  {
   "cell_type": "code",
   "execution_count": 43,
   "id": "cd32810d",
   "metadata": {},
   "outputs": [
    {
     "name": "stdout",
     "output_type": "stream",
     "text": [
      "1\n"
     ]
    }
   ],
   "source": [
    "# index(ele, beg, end) \n",
    "\n",
    "List = [1, 2, 3, 1, 2, 1, 2, 3, 2, 1]\n",
    "print(List.index(2))"
   ]
  },
  {
   "cell_type": "code",
   "execution_count": 44,
   "id": "ec93a882",
   "metadata": {},
   "outputs": [
    {
     "name": "stdout",
     "output_type": "stream",
     "text": [
      "4\n"
     ]
    }
   ],
   "source": [
    "# count(element) :- This function counts the number of occurrences of elements in list.\n",
    "\n",
    "List = [1, 2, 3, 1, 2, 1, 2, 3, 2, 1]\n",
    "print(List.count(2))"
   ]
  },
  {
   "cell_type": "code",
   "execution_count": 46,
   "id": "771e38aa",
   "metadata": {},
   "outputs": [
    {
     "name": "stdout",
     "output_type": "stream",
     "text": [
      "18\n"
     ]
    }
   ],
   "source": [
    "# sum() -> Calculates the sum of all the elements of the List. \n",
    "\n",
    "List = [1, 2, 3, 1, 2, 1, 2, 3, 2, 1]\n",
    "print(sum(List))"
   ]
  },
  {
   "cell_type": "code",
   "execution_count": 64,
   "id": "6bba41c8",
   "metadata": {},
   "outputs": [
    {
     "name": "stdout",
     "output_type": "stream",
     "text": [
      "['amy', 'rohan', 'sapna', 'aakash', 'raunak', 'chinmoy', 'muhammad']\n",
      "['amy', 'rohan', 'sapna', 'aakash', 'raunak', 'chinmoy', 'muhammad']\n"
     ]
    }
   ],
   "source": [
    "l9 = [\"rohan\", \"amy\", \"sapna\", \"muhammad\", \"aakash\", \"raunak\", \"chinmoy\"]\n",
    "l8=sorted(l9,key=len) # in this we need to make a new list\n",
    "print(l8)\n",
    "\n",
    "# the key parameter takes a function as argument\n",
    "\n",
    "l9.sort(key=len) # this makes changes inplace\n",
    "print(l9)"
   ]
  },
  {
   "cell_type": "markdown",
   "id": "9e8f36c6",
   "metadata": {},
   "source": [
    "# List Union"
   ]
  },
  {
   "cell_type": "code",
   "execution_count": 70,
   "id": "6e2a9a0c",
   "metadata": {},
   "outputs": [
    {
     "name": "stdout",
     "output_type": "stream",
     "text": [
      "[23, 15, 2, 14, 14, 16, 20, 52, 2, 48, 15, 12, 26, 32, 47, 54]\n",
      "[23, 15, 2, 14, 14, 16, 20, 52, 2, 48, 15, 12, 26, 32, 47, 54]\n"
     ]
    }
   ],
   "source": [
    "lst1 = [23, 15, 2, 14, 14, 16, 20 ,52]\n",
    "lst2 = [2, 48, 15, 12, 26, 32, 47, 54]\n",
    "\n",
    "f_list=list(lst1 + lst2)\n",
    "print(f_list)\n",
    "\n",
    "# or use the extend()...but this is inplace\n",
    "lst1.extend(lst2) \n",
    "print(lst1)\n",
    "\n",
    "# to use the union() and | operator...we need to convert the list to set first"
   ]
  },
  {
   "cell_type": "markdown",
   "id": "e1a53b84",
   "metadata": {},
   "source": [
    "# Intersection"
   ]
  },
  {
   "cell_type": "code",
   "execution_count": 73,
   "id": "76bb0bbd",
   "metadata": {},
   "outputs": [
    {
     "name": "stdout",
     "output_type": "stream",
     "text": [
      "[9, 11, 26, 28]\n"
     ]
    }
   ],
   "source": [
    "lst1 = [4, 9, 1, 17, 11, 26, 28, 54, 69] \n",
    "lst2 = [9, 9, 74, 21, 45, 11, 63, 28, 26] \n",
    "l3=[]\n",
    "for value in lst1:\n",
    "      if(value in lst2):\n",
    "            l3.append(value)\n",
    "print(l3)\n",
    "\n",
    "\n",
    "# to use the intersection() and '&' operator...we need to convert the list to set first"
   ]
  },
  {
   "cell_type": "markdown",
   "id": "21666a58",
   "metadata": {},
   "source": [
    "# Count the Numbers in a list within a given range"
   ]
  },
  {
   "cell_type": "code",
   "execution_count": 6,
   "id": "8edc5a3a",
   "metadata": {},
   "outputs": [
    {
     "name": "stdout",
     "output_type": "stream",
     "text": [
      "4\n"
     ]
    }
   ],
   "source": [
    "lst1 = [10, 20, 30, 40, 50, 80, 90, 60, 70] \n",
    "count=0\n",
    "for i in lst1:\n",
    "    if i in range(4,44):\n",
    "        count+=1\n",
    "print(count)"
   ]
  },
  {
   "cell_type": "markdown",
   "id": "1999f900",
   "metadata": {},
   "source": [
    "# Program to print duplicates"
   ]
  },
  {
   "cell_type": "code",
   "execution_count": 12,
   "id": "c07b58c9",
   "metadata": {},
   "outputs": [
    {
     "name": "stdout",
     "output_type": "stream",
     "text": [
      "[1, 2, 5, 9]\n"
     ]
    }
   ],
   "source": [
    "lis = [1, 2, 1, 2, 3, 4, 5, 1, 1, 2, 5, 6, 7, 8, 9, 9]\n",
    "x = []\n",
    "y = []\n",
    "for i in lis:\n",
    "    if i not in x:\n",
    "        x.append(i)\n",
    "        \n",
    "for i in x:\n",
    "     if lis.count(i) > 1:\n",
    "        y.append(i)\n",
    "print(y)"
   ]
  },
  {
   "cell_type": "code",
   "execution_count": 13,
   "id": "1401f595",
   "metadata": {},
   "outputs": [
    {
     "name": "stdout",
     "output_type": "stream",
     "text": [
      "Counter({1: 4, 2: 3, 5: 2, 9: 2, 3: 1, 4: 1, 6: 1, 7: 1, 8: 1})\n",
      "[1, 2, 5, 9]\n"
     ]
    }
   ],
   "source": [
    "# Using Counter() function from collection module\n",
    "\n",
    "from collections import Counter\n",
    "\n",
    "l1 = [1,2,1,2,3,4,5,1,1,2,5,6,7,8,9,9]\n",
    "d = Counter(l1)\n",
    "print(d)\n",
    "\n",
    "newlist = []\n",
    "for item in d:\n",
    "    if d[item]>1:\n",
    "        newlist.append(i)\n",
    "print(new_list) "
   ]
  },
  {
   "cell_type": "markdown",
   "id": "9e2f3220",
   "metadata": {},
   "source": [
    "# Convert a List of Characters into a String"
   ]
  },
  {
   "cell_type": "code",
   "execution_count": 3,
   "id": "88875a56",
   "metadata": {},
   "outputs": [
    {
     "name": "stdout",
     "output_type": "stream",
     "text": [
      "Python\n"
     ]
    }
   ],
   "source": [
    "a = ['P', 'y', 't', 'h', 'o', 'n']\n",
    "\n",
    "# Convert list of characters to string\n",
    "s = ''.join(a)\n",
    "\n",
    "print(s)"
   ]
  },
  {
   "cell_type": "code",
   "execution_count": 10,
   "id": "ae9d3619",
   "metadata": {},
   "outputs": [
    {
     "name": "stdout",
     "output_type": "stream",
     "text": [
      "[1, 2, 5, 7, 10]\n"
     ]
    }
   ],
   "source": [
    "a=[1,2,5,7,10]\n",
    "b=[3,8,9,7]\n",
    "print(a)"
   ]
  },
  {
   "cell_type": "code",
   "execution_count": 8,
   "id": "2c554427",
   "metadata": {},
   "outputs": [
    {
     "name": "stdout",
     "output_type": "stream",
     "text": [
      "7\n"
     ]
    }
   ],
   "source": [
    "s=a+b\n",
    "s2=set(s)\n",
    "print(len(s2))"
   ]
  },
  {
   "cell_type": "code",
   "execution_count": 12,
   "id": "59fb4dd4",
   "metadata": {},
   "outputs": [
    {
     "name": "stdout",
     "output_type": "stream",
     "text": [
      "{9, 26, 11, 28}\n"
     ]
    }
   ],
   "source": [
    "lst1 = [4, 9, 1, 17, 11, 26, 28, 54, 69] \n",
    "lst2 = [9, 9, 74, 21, 45, 11, 63, 28, 26] \n",
    "s1=set(lst1)\n",
    "s2=set(lst2)\n",
    "\n",
    "print(s1&s2)"
   ]
  },
  {
   "cell_type": "code",
   "execution_count": null,
   "id": "2f03291b",
   "metadata": {},
   "outputs": [],
   "source": []
  }
 ],
 "metadata": {
  "kernelspec": {
   "display_name": "Python 3 (ipykernel)",
   "language": "python",
   "name": "python3"
  },
  "language_info": {
   "codemirror_mode": {
    "name": "ipython",
    "version": 3
   },
   "file_extension": ".py",
   "mimetype": "text/x-python",
   "name": "python",
   "nbconvert_exporter": "python",
   "pygments_lexer": "ipython3",
   "version": "3.11.4"
  }
 },
 "nbformat": 4,
 "nbformat_minor": 5
}
