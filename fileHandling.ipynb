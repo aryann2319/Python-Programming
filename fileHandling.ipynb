{
 "cells": [
  {
   "cell_type": "code",
   "execution_count": 1,
   "id": "7f0c2b2d",
   "metadata": {},
   "outputs": [],
   "source": [
    "fp = open(\"file.txt\", \"w\")"
   ]
  },
  {
   "cell_type": "code",
   "execution_count": 2,
   "id": "85a80661",
   "metadata": {},
   "outputs": [],
   "source": [
    "fp.write(\"Hello World\\n\")\n",
    "fp.write(\"I'm Aryan\\n\")\n",
    "fp.write(\"Masters Student\\n\")\n",
    "fp.close()"
   ]
  },
  {
   "cell_type": "code",
   "execution_count": 49,
   "id": "e3ff43cb",
   "metadata": {},
   "outputs": [
    {
     "name": "stdout",
     "output_type": "stream",
     "text": [
      "      Hello World\n",
      "I'm Aryan\n",
      "Masters Student\n",
      "append mode\n"
     ]
    }
   ],
   "source": [
    "fp = open(\"file.txt\", \"r\")\n",
    "print(fp.read())"
   ]
  },
  {
   "cell_type": "code",
   "execution_count": 37,
   "id": "ba2d0004",
   "metadata": {},
   "outputs": [],
   "source": [
    "fp = open(\"file.txt\", \"a\")\n",
    "fp.write(\"append mode\\n\")\n",
    "fp.close()"
   ]
  },
  {
   "cell_type": "code",
   "execution_count": 52,
   "id": "c7b03fba",
   "metadata": {},
   "outputs": [
    {
     "name": "stdout",
     "output_type": "stream",
     "text": [
      "Hello World\n",
      "I'm Aryan\n",
      "Masters Student\n",
      "append mode\n"
     ]
    }
   ],
   "source": [
    "#lstrip and rstrip() are used to remove spaces or characters from either left or right\n",
    "fp = open(\"file.txt\", \"r\")\n",
    "data=fp.read()\n",
    "print(data.lstrip())"
   ]
  },
  {
   "cell_type": "code",
   "execution_count": 53,
   "id": "9fe918c4",
   "metadata": {},
   "outputs": [],
   "source": [
    "with open(\"file.txt\", \"w\") as f:\n",
    "    f.write(\"Hello World!!!\")"
   ]
  },
  {
   "cell_type": "code",
   "execution_count": 15,
   "id": "97160039",
   "metadata": {},
   "outputs": [
    {
     "name": "stdout",
     "output_type": "stream",
     "text": [
      "Number of lines: 3\n",
      "Number of words: 6\n",
      "Number of characters: 38\n"
     ]
    }
   ],
   "source": [
    "with open(\"file.txt\", 'r') as file:\n",
    "    lines = file.readlines()\n",
    "\n",
    "num_lines = len(lines)\n",
    "num_words = 0\n",
    "num_chars = 0\n",
    "\n",
    "for line in lines:\n",
    "    num_chars += len(line)\n",
    "    num_words += len(line.split())\n",
    "\n",
    "print(f\"Number of lines: {num_lines}\")\n",
    "print(f\"Number of words: {num_words}\")\n",
    "print(f\"Number of characters: {num_chars}\")"
   ]
  },
  {
   "cell_type": "code",
   "execution_count": 11,
   "id": "9628aa3b",
   "metadata": {},
   "outputs": [
    {
     "name": "stdout",
     "output_type": "stream",
     "text": [
      "Hello World f1 This is file 2\n",
      "\n",
      "Lines combined and written\n"
     ]
    }
   ],
   "source": [
    "with open(\"file.txt\", 'r') as f1, open(\"file2.txt\", 'r') as f2, open(\"opfile.txt\", 'w+') as out:\n",
    "        for line1, line2 in zip(f1, f2):\n",
    "            combined = line1.strip() + \" \" + line2.strip()\n",
    "            out.write(combined + \"\\n\")\n",
    "            out.seek(0)\n",
    "            olines= out.read()\n",
    "            print(olines)\n",
    "\n",
    "print(\"Lines combined and written\")"
   ]
  },
  {
   "cell_type": "code",
   "execution_count": null,
   "id": "7e33143c",
   "metadata": {},
   "outputs": [],
   "source": []
  }
 ],
 "metadata": {
  "kernelspec": {
   "display_name": "Python 3 (ipykernel)",
   "language": "python",
   "name": "python3"
  },
  "language_info": {
   "codemirror_mode": {
    "name": "ipython",
    "version": 3
   },
   "file_extension": ".py",
   "mimetype": "text/x-python",
   "name": "python",
   "nbconvert_exporter": "python",
   "pygments_lexer": "ipython3",
   "version": "3.11.4"
  }
 },
 "nbformat": 4,
 "nbformat_minor": 5
}
