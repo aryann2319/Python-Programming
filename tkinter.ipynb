{
 "cells": [
  {
   "cell_type": "code",
   "execution_count": 13,
   "id": "107dd80f",
   "metadata": {},
   "outputs": [],
   "source": [
    "from tkinter import * # import all definations from tkinter module\n",
    "\n",
    "def pressed():\n",
    "    print(\"Button was pressed\")\n",
    "\n",
    "window = Tk() #the Tk class creates a instance of a window to hold GUI widgets\n",
    "\n",
    "# label and button are tkinter widget classes. the first argument is always the parent conatiner\n",
    "label = Label(window, text=\"Welcome to python\")\n",
    "button = Button(window, text=\"Click me\" , fg=\"red\", command=pressed)\n",
    "label.pack() #pack the label in the window i.e places the label in the container using pack manager\n",
    "button.pack() #pack the button in the winodw\n",
    "\n",
    "window.mainloop() # creates a eventloop that processes events continously until u close the main window"
   ]
  },
  {
   "cell_type": "code",
   "execution_count": null,
   "id": "d03190ab",
   "metadata": {},
   "outputs": [],
   "source": []
  }
 ],
 "metadata": {
  "kernelspec": {
   "display_name": "Python 3 (ipykernel)",
   "language": "python",
   "name": "python3"
  },
  "language_info": {
   "codemirror_mode": {
    "name": "ipython",
    "version": 3
   },
   "file_extension": ".py",
   "mimetype": "text/x-python",
   "name": "python",
   "nbconvert_exporter": "python",
   "pygments_lexer": "ipython3",
   "version": "3.11.4"
  }
 },
 "nbformat": 4,
 "nbformat_minor": 5
}
