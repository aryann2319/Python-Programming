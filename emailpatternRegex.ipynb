{
 "cells": [
  {
   "cell_type": "code",
   "execution_count": 75,
   "id": "ade9401e",
   "metadata": {},
   "outputs": [
    {
     "name": "stdout",
     "output_type": "stream",
     "text": [
      "valid\n"
     ]
    }
   ],
   "source": [
    "import re\n",
    "\n",
    "def func(pattern, text):\n",
    "    m=re.search(pattern,text)\n",
    "    if m: \n",
    "        print('valid')\n",
    "    else:\n",
    "        print('invalid')\n",
    "        \n",
    "func('^[a-zA-Z0-9_.%]+@[a-zA-Z0-9]+\\.[a-zA-Z]{2,3}+\\.?[a-zA-Z]{2,}$', 'aryan@bciit.com.in')"
   ]
  },
  {
   "cell_type": "code",
   "execution_count": 76,
   "id": "f1fc2f3d",
   "metadata": {},
   "outputs": [
    {
     "data": {
      "text/plain": [
       "['aryan@bciit.com']"
      ]
     },
     "execution_count": 76,
     "metadata": {},
     "output_type": "execute_result"
    }
   ],
   "source": [
    "re.findall('^[a-zA-Z0-9_.%]+@[a-zA-Z0-9]+.[a-zA-Z]+.?[a-zA-Z]{2,}$', 'aryan@bciit.com')"
   ]
  },
  {
   "cell_type": "code",
   "execution_count": null,
   "id": "5553a563",
   "metadata": {},
   "outputs": [],
   "source": []
  }
 ],
 "metadata": {
  "kernelspec": {
   "display_name": "Python 3 (ipykernel)",
   "language": "python",
   "name": "python3"
  },
  "language_info": {
   "codemirror_mode": {
    "name": "ipython",
    "version": 3
   },
   "file_extension": ".py",
   "mimetype": "text/x-python",
   "name": "python",
   "nbconvert_exporter": "python",
   "pygments_lexer": "ipython3",
   "version": "3.11.4"
  }
 },
 "nbformat": 4,
 "nbformat_minor": 5
}
