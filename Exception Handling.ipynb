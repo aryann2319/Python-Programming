{
 "cells": [
  {
   "cell_type": "code",
   "execution_count": 1,
   "id": "8678ce1c",
   "metadata": {},
   "outputs": [
    {
     "ename": "ZeroDivisionError",
     "evalue": "division by zero",
     "output_type": "error",
     "traceback": [
      "\u001b[1;31m---------------------------------------------------------------------------\u001b[0m",
      "\u001b[1;31mZeroDivisionError\u001b[0m                         Traceback (most recent call last)",
      "Cell \u001b[1;32mIn[1], line 18\u001b[0m\n\u001b[0;32m     16\u001b[0m marks \u001b[38;5;241m=\u001b[39m \u001b[38;5;241m10000\u001b[39m\n\u001b[0;32m     17\u001b[0m \u001b[38;5;66;03m# perform division with 0\u001b[39;00m\n\u001b[1;32m---> 18\u001b[0m a \u001b[38;5;241m=\u001b[39m marks \u001b[38;5;241m/\u001b[39m \u001b[38;5;241m0\u001b[39m\n\u001b[0;32m     19\u001b[0m \u001b[38;5;28mprint\u001b[39m(a)\n",
      "\u001b[1;31mZeroDivisionError\u001b[0m: division by zero"
     ]
    }
   ],
   "source": [
    "# Error in Python can be of two types i.e. Syntax errors and Exceptions. Errors are the problems in a program due \n",
    "# to which the program will stop the execution. On the other hand, exceptions are raised when some internal events \n",
    "# occur which changes the normal flow of the program.\n",
    "\n",
    "'''Exceptions: Exceptions are raised when the program is syntactically correct, but the code resulted in an error. \n",
    "This error does not stop the execution of the program, however, it changes the normal flow of the program.'''\n",
    "\n",
    "# Some of the common Exception Errors are :\n",
    "# - IOError: if the file can’t be opened\n",
    "# - KeyboardInterrupt: when an unrequired key is pressed by the user\n",
    "# - ValueError: when built-in function receives a wrong argument\n",
    "# - EOFError: if End-Of-File is hit without reading any data\n",
    "# - ImportError: if it is unable to find the module\n",
    "\n",
    "\n",
    "marks = 10000\n",
    "# perform division with 0\n",
    "a = marks / 0\n",
    "print(a)"
   ]
  },
  {
   "cell_type": "markdown",
   "id": "f5361d55",
   "metadata": {},
   "source": [
    "# Try Except in Python"
   ]
  },
  {
   "cell_type": "code",
   "execution_count": null,
   "id": "89ca7f07",
   "metadata": {},
   "outputs": [],
   "source": [
    "'''Try and Except statement is used to handle these errors within our code in Python. The try block is used to check \n",
    "some code for errors i.e the code inside the try block will execute when there is no error in the program. Whereas \n",
    "the code inside the except block will execute whenever the program encounters some error in the preceding try block.'''\n",
    "\n",
    "\n",
    "# First, the try clause is executed i.e. the code between try and except clause.\n",
    "# If there is no exception, then only the try clause will run, until the clause is finished.\n",
    "# If any exception occurs, the try clause will be skipped and except clause will run.\n",
    "# If any exception occurs, but the except clause within the code doesn’t handle it, it is passed on to the outer try \n",
    "# If the exception is left unhandled, then the execution stops.\n",
    "# A try statement can have more than one except clause"
   ]
  },
  {
   "cell_type": "code",
   "execution_count": 11,
   "id": "67342bd0",
   "metadata": {},
   "outputs": [
    {
     "name": "stdout",
     "output_type": "stream",
     "text": [
      "enter number: 0\n",
      "input cannot be zero\n"
     ]
    }
   ],
   "source": [
    "# no exception- try clause will run completely\n",
    "# if exception occurs, execution stops at that line and moves to except clause\n",
    "try:\n",
    "    marks=1000;\n",
    "    avg=int(input(\"enter number: \"))\n",
    "    total=marks/avg\n",
    "    print(total)\n",
    "    print(\"no error occured\")\n",
    "except ZeroDivisionError:\n",
    "    print(\"input cannot be zero\")"
   ]
  },
  {
   "cell_type": "markdown",
   "id": "35838052",
   "metadata": {},
   "source": [
    "# Else Clause"
   ]
  },
  {
   "cell_type": "code",
   "execution_count": 21,
   "id": "cd5eba46",
   "metadata": {},
   "outputs": [
    {
     "name": "stdout",
     "output_type": "stream",
     "text": [
      "-5.0\n",
      "In else caluse\n",
      "\n",
      "after 1st function call defination\n",
      "a/b result in 0\n"
     ]
    }
   ],
   "source": [
    "\n",
    "'''In python, you can also use the else clause on the try-except block which must be present after all the\n",
    "except clauses.'''\n",
    "# The code enters the else block only if the try clause does not raise an exception.\n",
    "\n",
    "def AbyB(a , b):\n",
    "    try:\n",
    "        c = ((a+b) // (a-b))\n",
    "    except ZeroDivisionError:\n",
    "        print (\"a/b result in 0\")\n",
    "    else:\n",
    "        print (c)\n",
    "        print(\"In else caluse\")\n",
    "\n",
    "AbyB(2.0, 3.0)\n",
    "print()\n",
    "print(\"after 1st function call defination\")\n",
    "AbyB(3.0, 3.0)"
   ]
  },
  {
   "cell_type": "markdown",
   "id": "7af14e19",
   "metadata": {},
   "source": [
    "# Finally Keyword"
   ]
  },
  {
   "cell_type": "code",
   "execution_count": 16,
   "id": "7357249b",
   "metadata": {},
   "outputs": [
    {
     "name": "stdout",
     "output_type": "stream",
     "text": [
      "Can't divide by zero\n",
      "This is always executed\n"
     ]
    }
   ],
   "source": [
    "# Python provides a keyword finally, which is always executed after the try and except blocks. The final block \n",
    "# always executes after normal termination of try block or after try block terminates due to some exceptions.\n",
    "\n",
    "try:\n",
    "    k = 5/0 \n",
    "    print(k)\n",
    "\n",
    "except ZeroDivisionError:\n",
    "    print(\"Can't divide by zero\")\n",
    "\n",
    "finally:\n",
    "    print('This is always executed')"
   ]
  },
  {
   "cell_type": "markdown",
   "id": "2c7a2efc",
   "metadata": {},
   "source": [
    "# Raising Exceptions"
   ]
  },
  {
   "cell_type": "code",
   "execution_count": 28,
   "id": "5c8095b2",
   "metadata": {},
   "outputs": [
    {
     "name": "stdout",
     "output_type": "stream",
     "text": [
      "2.5\n",
      "An exception\n"
     ]
    }
   ],
   "source": [
    "'''The raise statement allows the programmer to force a specific exception to occur. The sole argument in raise \n",
    "indicates the exception to be raised. This must be either an exception instance or an exception class \n",
    "(a class that derives from Exception). no statement after raise in try block runs'''\n",
    "\n",
    "try:\n",
    "    num1= 10\n",
    "    num2 = 4\n",
    "    num = num1/num2\n",
    "    print(num)\n",
    "    raise NameError(\"Hi there\") # Raise Error\n",
    "    print(num) # will not run\n",
    "except NameError:\n",
    "    print (\"An exception\")"
   ]
  },
  {
   "cell_type": "markdown",
   "id": "c4f75e38",
   "metadata": {},
   "source": [
    "# User-defined Exception"
   ]
  },
  {
   "cell_type": "code",
   "execution_count": 31,
   "id": "2a245bdb",
   "metadata": {},
   "outputs": [
    {
     "name": "stdout",
     "output_type": "stream",
     "text": [
      "A New Exception occured:  6\n"
     ]
    }
   ],
   "source": [
    "'''Programmers may name their own exceptions by creating a new exception class. Exceptions need to be derived \n",
    "from the Exception class, either directly or indirectly. Although not mandatory, most of the exceptions are named \n",
    "as names that end in “Error” similar to the naming of the standard exceptions in python.'''\n",
    "\n",
    "class MyError(Exception):\n",
    "    \n",
    "    def __init__(self, value):\n",
    "        self.value = value\n",
    "\n",
    "    def __str__(self):\n",
    "        return(repr(self.value))\n",
    "\n",
    "try:\n",
    "    raise(MyError(3*2))\n",
    "\n",
    "except MyError as e:\n",
    "    print('A New Exception occured: ', e.value)"
   ]
  },
  {
   "cell_type": "code",
   "execution_count": 33,
   "id": "e25b1a62",
   "metadata": {},
   "outputs": [
    {
     "name": "stdout",
     "output_type": "stream",
     "text": [
      "('E', 'r', 'r', 'o', 'r')\n"
     ]
    }
   ],
   "source": [
    "class Networkerror(RuntimeError):\n",
    "    def __init__(self, arg):\n",
    "        self.args = arg\n",
    "\n",
    "try:\n",
    "    raise Networkerror(\"Error\")\n",
    "\n",
    "except Networkerror as e:\n",
    "    print (e.args)"
   ]
  },
  {
   "cell_type": "code",
   "execution_count": 1,
   "id": "2cbb1d31",
   "metadata": {},
   "outputs": [
    {
     "ename": "AssertionError",
     "evalue": "x is too large",
     "output_type": "error",
     "traceback": [
      "\u001b[1;31m---------------------------------------------------------------------------\u001b[0m",
      "\u001b[1;31mAssertionError\u001b[0m                            Traceback (most recent call last)",
      "Cell \u001b[1;32mIn[1], line 5\u001b[0m\n\u001b[0;32m      3\u001b[0m x \u001b[38;5;241m=\u001b[39m \u001b[38;5;241m5\u001b[39m\n\u001b[0;32m      4\u001b[0m \u001b[38;5;28;01massert\u001b[39;00m x \u001b[38;5;241m>\u001b[39m \u001b[38;5;241m0\u001b[39m, \u001b[38;5;124m\"\u001b[39m\u001b[38;5;124mx must be positive\u001b[39m\u001b[38;5;124m\"\u001b[39m\n\u001b[1;32m----> 5\u001b[0m \u001b[38;5;28;01massert\u001b[39;00m x \u001b[38;5;241m<\u001b[39m \u001b[38;5;241m3\u001b[39m, \u001b[38;5;124m\"\u001b[39m\u001b[38;5;124mx is too large\u001b[39m\u001b[38;5;124m\"\u001b[39m\n",
      "\u001b[1;31mAssertionError\u001b[0m: x is too large"
     ]
    }
   ],
   "source": [
    "# assertions \n",
    "\n",
    "x = 5\n",
    "assert x > 0, \"x must be positive\"\n",
    "assert x < 3, \"x is too large\"  # Raises AssertionError"
   ]
  },
  {
   "cell_type": "code",
   "execution_count": null,
   "id": "ce665212",
   "metadata": {},
   "outputs": [],
   "source": []
  }
 ],
 "metadata": {
  "kernelspec": {
   "display_name": "Python 3 (ipykernel)",
   "language": "python",
   "name": "python3"
  },
  "language_info": {
   "codemirror_mode": {
    "name": "ipython",
    "version": 3
   },
   "file_extension": ".py",
   "mimetype": "text/x-python",
   "name": "python",
   "nbconvert_exporter": "python",
   "pygments_lexer": "ipython3",
   "version": "3.11.4"
  }
 },
 "nbformat": 4,
 "nbformat_minor": 5
}
